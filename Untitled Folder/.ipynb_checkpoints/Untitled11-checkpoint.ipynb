{
 "cells": [
  {
   "cell_type": "code",
   "execution_count": null,
   "metadata": {},
   "outputs": [],
   "source": [
    " import sqlite3\n",
    "\n",
    "connection = sqlite3.connect('test.db')\n",
    "cursor = connection.cursor()\n",
    "\n",
    "cursor.execute(\"\"\"\n",
    "CREATE TABLE users(\n",
    "pk INTEGER,\n",
    "name VARCHAR(32),\n",
    "PRIMARY KEY(pk))\n",
    ";\"\"\")\n",
    "\n",
    "cursor.execute(\"\"\"\n",
    "CREATE TABLE tweets(\n",
    "pk INTEGER,\n",
    "userID INTEGER,\n",
    "tweet VARCHAR,\n",
    "response VARCHAR,\n",
    "FOREIGN KEY(userID) REFERENCES users(pk),\n",
    "PRIMARY KEY(pk))\n",
    ";\"\"\")\n",
    "\n",
    "connection.commit()\n",
    "cursor.close()\n"
   ]
  },
  {
   "cell_type": "code",
   "execution_count": null,
   "metadata": {},
   "outputs": [],
   "source": [
    "import nltk\n",
    "nltk.download('punkt')"
   ]
  },
  {
   "cell_type": "code",
   "execution_count": null,
   "metadata": {},
   "outputs": [
    {
     "name": "stdout",
     "output_type": "stream",
     "text": [
      "im restring\n",
      " * Serving Flask app \"__main__\" (lazy loading)\n",
      " * Environment: production\n",
      "   WARNING: Do not use the development server in a production environment.\n",
      "   Use a production WSGI server instead.\n",
      " * Debug mode: off\n"
     ]
    },
    {
     "name": "stderr",
     "output_type": "stream",
     "text": [
      " * Running on http://127.0.0.1:5000/ (Press CTRL+C to quit)\n",
      "INFO:werkzeug: * Running on http://127.0.0.1:5000/ (Press CTRL+C to quit)\n"
     ]
    },
    {
     "name": "stdout",
     "output_type": "stream",
     "text": [
      "you are in home\n",
      "[('hello', 'Indu', 'hello'), ('hello', 'Indu', 'hello'), ('hello', 'Indu', 'hi'), ('next', 'Indu', 'Sorry, refine your question'), ('next', 'Indu', '[43][44][45] these cloud platforms provide natural language processing, artificial intelligence and mobile backend as a service for chatbot development.'), ('cloud', 'Indu', 'chatbot development platforms\\nthe process of building, testing and deploying chatbots can be done on cloud-based chatbot development platforms[42] offered by cloud platform as a service (paas) providers such as oracle cloud platform and ibm watson.'), ('Hello', 'Indu', 'hey'), ('hello', 'Indu', 'hi'), ('bye', 'Indu', 'Bye! take care..'), ('next', 'Indu', 'Sorry, refine your question'), ('next', 'Indu', 'some chatbots use sophisticated natural language processing systems, but many simpler ones scan for keywords within the input, then pull a reply with the most matching keywords, or the most similar wording pattern, from a database.'), ('ok', 'Indu', '[43][44][45] these cloud platforms provide natural language processing, artificial intelligence and mobile backend as a service for chatbot development.'), ('woow', 'Indu', 'Thank you, say ok to continue'), ('wow', 'Indu', 'Sorry, refine your question'), ('ok', 'Indu', '[14]\\n\\none pertinent field of ai research is natural language processing.'), ('can bot process natural language ?', 'Indu', 'these intelligent chatbots make use of all kinds of artificial intelligence like image moderation and natural language understanding (nlu), natural language generation (nlg), machine learning and deep learning.'), ('next', 'Indu', 'Sorry, refine your question'), ('next', 'Indu', '[43][44][45] these cloud platforms provide natural language processing, artificial intelligence and mobile backend as a service for chatbot development.'), ('cloud', 'Indu', 'chatbot development platforms\\nthe process of building, testing and deploying chatbots can be done on cloud-based chatbot development platforms[42] offered by cloud platform as a service (paas) providers such as oracle cloud platform and ibm watson.'), ('bots are used in cloud ?', 'Indu', 'chatbot development platforms\\nthe process of building, testing and deploying chatbots can be done on cloud-based chatbot development platforms[42] offered by cloud platform as a service (paas) providers such as oracle cloud platform and ibm watson.'), ('platform', 'Indu', 'chatbot development platforms\\nthe process of building, testing and deploying chatbots can be done on cloud-based chatbot development platforms[42] offered by cloud platform as a service (paas) providers such as oracle cloud platform and ibm watson.'), ('service', 'Indu', 'they are used for b2c customer service, sales and marketing.'), ('next', 'Indu', '[43][44][45] these cloud platforms provide natural language processing, artificial intelligence and mobile backend as a service for chatbot development.'), ('next', 'Indu', 'advances in computational intelligence systems (1st ed.).'), ('intelligence', 'Indu', 'bi intelligence.'), ('ok', 'Indu', 'Please start a conversation about you want to know !!'), ('anything else', 'Indu', 'Sorry, refine your question'), ('ok', 'Indu', 'designing bots: creating conversational experiences (first ed.).'), ('bot', 'Indu', 'chatbots: building intelligent, cross-platform, messaging bots.'), ('Hi', 'Indu', 'hi there'), ('bye', 'Indu', 'Bye! take care..'), ('ok', 'Indu', 'Please start a conversation about you want to know !!'), ('more', 'Indu', 'Sorry, refine your question'), ('ok', 'Indu', 'designing bots: creating conversational experiences (first ed.).'), ('more', 'Indu', 'chatbots: building intelligent, cross-platform, messaging bots.'), ('more', 'Indu', 'Sorry, refine your question'), ('eliza', 'Indu', \"the notoriety of turing's proposed test stimulated great interest in joseph weizenbaum's program eliza, published in 1966, which seemed to be able to fool users into believing that they were conversing with a real human.\"), ('hi', 'Indu', 'hello'), ('more', 'Indu', 'while eliza and parry were used exclusively to simulate typed conversation, many chatbots now include functional features such as games and web searching abilities.'), ('Eliza', 'Indu', 'development\\nthe classic historic early chatbots are eliza (1966) and parry (1972).'), ('Hi', 'Indu', 'hello'), ('Hi', 'Indu', 'hi'), ('more', 'Indu', 'Please start a conversation about you want to know !!'), ('ok', 'Indu', 'Sorry, refine your question'), ('ok', 'Indu', 'Sorry, refine your question'), ('yes', 'Indu', 'a chatbot (also known as a smartbot, talkbot, chatterbot, bot, im bot, interactive agent, conversational interface, conversational ai, or artificial conversational entity) is a computer program or an artificial intelligence which conducts a conversation via auditory or textual methods.'), ('hmm', 'Indu', 'Do you like my response ?'), ('chatterbot', 'Indu', 'retrieved 2007-12-09. psychologist and scientific american: mind contributing editor robert epstein reports how he was initially fooled by a chatterbot posing as an attractive girl in a personal ad he answered on a dating website.'), ('hi', 'Indu', 'hello'), ('good', 'Indu', 'Thank you, say ok to continue'), ('yes', 'Indu', \"the notoriety of turing's proposed test stimulated great interest in joseph weizenbaum's program eliza, published in 1966, which seemed to be able to fool users into believing that they were conversing with a real human.\"), ('hmm', 'Indu', 'Do you like my response ?'), ('more', 'Indu', 'while eliza and parry were used exclusively to simulate typed conversation, many chatbots now include functional features such as games and web searching abilities.'), ('eliza', 'Indu', 'development\\nthe classic historic early chatbots are eliza (1966) and parry (1972).'), ('hi', 'Indu', 'hey'), ('Radhu', 'Indu', 'Sorry, refine your question'), ('hi', 'Indu', 'I am glad! You are talking to me'), ('ok', 'Indu', 'Sorry, refine your question'), ('next', 'Indu', \"the notoriety of turing's proposed test stimulated great interest in joseph weizenbaum's program eliza, published in 1966, which seemed to be able to fool users into believing that they were conversing with a real human.\"), ('next', 'Indu', 'while eliza and parry were used exclusively to simulate typed conversation, many chatbots now include functional features such as games and web searching abilities.'), ('Eliza', 'Indu', 'development\\nthe classic historic early chatbots are eliza (1966) and parry (1972).'), ('hello', 'Indu', 'I am glad! You are talking to me'), ('intelligebce', 'Indu', 'Sorry, refine your question'), ('know', 'Indu', 'Sorry, refine your question'), ('i dont know', 'Indu', 'Sorry, refine your question'), ('ok', 'Indu', 'Please start a conversation about you want to know !!'), ('yes', 'Indu', 'Please start a conversation about you want to know !!'), ('hmm', 'Indu', 'Do you like my response ?'), ('more', 'Indu', 'Sorry, refine your question'), ('more', 'Indu', 'a chatbot (also known as a smartbot, talkbot, chatterbot, bot, im bot, interactive agent, conversational interface, conversational ai, or artificial conversational entity) is a computer program or an artificial intelligence which conducts a conversation via auditory or textual methods.'), ('chatterbot', 'Indu', 'retrieved 2007-12-09. psychologist and scientific american: mind contributing editor robert epstein reports how he was initially fooled by a chatterbot posing as an attractive girl in a personal ad he answered on a dating website.'), ('hi', 'Indu', 'hi there'), ('Radhu', 'Indu', 'Sorry, refine your question'), ('hi', 'Radhu', 'I am glad! You are talking to me'), ('hello', 'Indu', 'hi'), ('bye', 'Indu', 'Bye! take care..'), ('hi', 'Indu', 'hey'), ('hi', 'Indu', 'ROBO: hi there'), ('good', 'Indu', 'ROBO: Thank you, say ok to continue'), ('anything else', 'Indu', 'while eliza and parry were used exclusively to simulate typed conversation, many chatbots now include functional features such as games and web searching abilities.'), ('eliza', 'Indu', 'development\\nthe classic historic early chatbots are eliza (1966) and parry (1972).'), ('hi', 'Indu', 'ROBO: hello')]\n"
     ]
    },
    {
     "name": "stderr",
     "output_type": "stream",
     "text": [
      "127.0.0.1 - - [25/Mar/2019 00:14:59] \"\u001b[37mGET /home HTTP/1.1\u001b[0m\" 200 -\n",
      "INFO:werkzeug:127.0.0.1 - - [25/Mar/2019 00:14:59] \"\u001b[37mGET /home HTTP/1.1\u001b[0m\" 200 -\n",
      "127.0.0.1 - - [25/Mar/2019 00:15:02] \"\u001b[37mGET /showSignUp HTTP/1.1\u001b[0m\" 200 -\n",
      "INFO:werkzeug:127.0.0.1 - - [25/Mar/2019 00:15:02] \"\u001b[37mGET /showSignUp HTTP/1.1\u001b[0m\" 200 -\n",
      "127.0.0.1 - - [25/Mar/2019 00:15:07] \"\u001b[37mPOST /signUp HTTP/1.1\u001b[0m\" 200 -\n",
      "INFO:werkzeug:127.0.0.1 - - [25/Mar/2019 00:15:07] \"\u001b[37mPOST /signUp HTTP/1.1\u001b[0m\" 200 -\n",
      "127.0.0.1 - - [25/Mar/2019 00:15:07] \"\u001b[37mPOST /user HTTP/1.1\u001b[0m\" 200 -\n",
      "INFO:werkzeug:127.0.0.1 - - [25/Mar/2019 00:15:07] \"\u001b[37mPOST /user HTTP/1.1\u001b[0m\" 200 -\n"
     ]
    },
    {
     "name": "stdout",
     "output_type": "stream",
     "text": [
      "_name Indu\n",
      "_name Indu\n",
      "fetched info [(1, 'Indu')]\n",
      "fetched pk (1,)\n",
      "(1,)\n"
     ]
    },
    {
     "name": "stderr",
     "output_type": "stream",
     "text": [
      "127.0.0.1 - - [25/Mar/2019 00:15:13] \"\u001b[37mPOST /signUp HTTP/1.1\u001b[0m\" 200 -\n",
      "INFO:werkzeug:127.0.0.1 - - [25/Mar/2019 00:15:13] \"\u001b[37mPOST /signUp HTTP/1.1\u001b[0m\" 200 -\n"
     ]
    },
    {
     "name": "stdout",
     "output_type": "stream",
     "text": [
      "_name hello\n",
      "Indu\n",
      "fetched info [(1, 'Indu')]\n",
      "fetched pk (1,)\n",
      "hello\n",
      "botresponse hi\n"
     ]
    },
    {
     "name": "stderr",
     "output_type": "stream",
     "text": [
      "127.0.0.1 - - [25/Mar/2019 00:15:14] \"\u001b[37mPOST /tweets HTTP/1.1\u001b[0m\" 200 -\n",
      "INFO:werkzeug:127.0.0.1 - - [25/Mar/2019 00:15:14] \"\u001b[37mPOST /tweets HTTP/1.1\u001b[0m\" 200 -\n"
     ]
    },
    {
     "name": "stdout",
     "output_type": "stream",
     "text": [
      "Indu\n",
      "fetched info [(1, 'Indu')]\n",
      "fetched pk (1,)\n",
      "bot are used in industry ?\n",
      "{'where all the bots used': 1, 'bot are used in industry ?': 1}\n",
      "prev qs bot are used in industry ?\n",
      "quest  bot are used in industry ?\n"
     ]
    },
    {
     "name": "stderr",
     "output_type": "stream",
     "text": [
      "[2019-03-25 00:15:29,185] ERROR in app: Exception on /tweets [POST]\n",
      "Traceback (most recent call last):\n",
      "  File \"C:\\ProgramData\\Anaconda2\\lib\\site-packages\\flask\\app.py\", line 2292, in wsgi_app\n",
      "    response = self.full_dispatch_request()\n",
      "  File \"C:\\ProgramData\\Anaconda2\\lib\\site-packages\\flask\\app.py\", line 1815, in full_dispatch_request\n",
      "    rv = self.handle_user_exception(e)\n",
      "  File \"C:\\ProgramData\\Anaconda2\\lib\\site-packages\\flask\\app.py\", line 1718, in handle_user_exception\n",
      "    reraise(exc_type, exc_value, tb)\n",
      "  File \"C:\\ProgramData\\Anaconda2\\lib\\site-packages\\flask\\_compat.py\", line 35, in reraise\n",
      "    raise value\n",
      "  File \"C:\\ProgramData\\Anaconda2\\lib\\site-packages\\flask\\app.py\", line 1813, in full_dispatch_request\n",
      "    rv = self.dispatch_request()\n",
      "  File \"C:\\ProgramData\\Anaconda2\\lib\\site-packages\\flask\\app.py\", line 1799, in dispatch_request\n",
      "    return self.view_functions[rule.endpoint](**req.view_args)\n",
      "  File \"<ipython-input-29-615e519ba747>\", line 71, in tweets\n",
      "    orm.post_tweet(_tweet, bot_output, pk)\n",
      "  File \"C:\\Users\\HP PC\\Untitled Folder\\orm.py\", line 73, in post_tweet\n",
      "    # VALUES (\"{}\",\"{}\",\"{}\");\n",
      "sqlite3.OperationalError: near \"2017\": syntax error\n",
      "ERROR:flask.app:Exception on /tweets [POST]\n",
      "Traceback (most recent call last):\n",
      "  File \"C:\\ProgramData\\Anaconda2\\lib\\site-packages\\flask\\app.py\", line 2292, in wsgi_app\n",
      "    response = self.full_dispatch_request()\n",
      "  File \"C:\\ProgramData\\Anaconda2\\lib\\site-packages\\flask\\app.py\", line 1815, in full_dispatch_request\n",
      "    rv = self.handle_user_exception(e)\n",
      "  File \"C:\\ProgramData\\Anaconda2\\lib\\site-packages\\flask\\app.py\", line 1718, in handle_user_exception\n",
      "    reraise(exc_type, exc_value, tb)\n",
      "  File \"C:\\ProgramData\\Anaconda2\\lib\\site-packages\\flask\\_compat.py\", line 35, in reraise\n",
      "    raise value\n",
      "  File \"C:\\ProgramData\\Anaconda2\\lib\\site-packages\\flask\\app.py\", line 1813, in full_dispatch_request\n",
      "    rv = self.dispatch_request()\n",
      "  File \"C:\\ProgramData\\Anaconda2\\lib\\site-packages\\flask\\app.py\", line 1799, in dispatch_request\n",
      "    return self.view_functions[rule.endpoint](**req.view_args)\n",
      "  File \"<ipython-input-29-615e519ba747>\", line 71, in tweets\n",
      "    orm.post_tweet(_tweet, bot_output, pk)\n",
      "  File \"C:\\Users\\HP PC\\Untitled Folder\\orm.py\", line 73, in post_tweet\n",
      "    # VALUES (\"{}\",\"{}\",\"{}\");\n",
      "sqlite3.OperationalError: near \"2017\": syntax error\n",
      "127.0.0.1 - - [25/Mar/2019 00:15:29] \"\u001b[1m\u001b[35mPOST /tweets HTTP/1.1\u001b[0m\" 500 -\n",
      "INFO:werkzeug:127.0.0.1 - - [25/Mar/2019 00:15:29] \"\u001b[1m\u001b[35mPOST /tweets HTTP/1.1\u001b[0m\" 500 -\n"
     ]
    },
    {
     "name": "stdout",
     "output_type": "stream",
     "text": [
      "bot are used in industry ?\n",
      "1\n",
      "Results :\n",
      "botresponse \"2017 messenger bot landscape, a public spreadsheet gathering 1000+ messenger bots\".\n",
      "Indu\n",
      "fetched info [(1, 'Indu')]\n",
      "fetched pk (1,)\n",
      "bot are used in industry ?\n",
      "{'where all the bots used': 1, 'bot are used in industry ?': 2}\n",
      "prev qs bot are used in industry ?\n",
      "quest  bot are used in industry ?\n"
     ]
    },
    {
     "name": "stderr",
     "output_type": "stream",
     "text": [
      "[2019-03-25 00:15:57,035] ERROR in app: Exception on /tweets [POST]\n",
      "Traceback (most recent call last):\n",
      "  File \"C:\\ProgramData\\Anaconda2\\lib\\site-packages\\flask\\app.py\", line 2292, in wsgi_app\n",
      "    response = self.full_dispatch_request()\n",
      "  File \"C:\\ProgramData\\Anaconda2\\lib\\site-packages\\flask\\app.py\", line 1815, in full_dispatch_request\n",
      "    rv = self.handle_user_exception(e)\n",
      "  File \"C:\\ProgramData\\Anaconda2\\lib\\site-packages\\flask\\app.py\", line 1718, in handle_user_exception\n",
      "    reraise(exc_type, exc_value, tb)\n",
      "  File \"C:\\ProgramData\\Anaconda2\\lib\\site-packages\\flask\\_compat.py\", line 35, in reraise\n",
      "    raise value\n",
      "  File \"C:\\ProgramData\\Anaconda2\\lib\\site-packages\\flask\\app.py\", line 1813, in full_dispatch_request\n",
      "    rv = self.dispatch_request()\n",
      "  File \"C:\\ProgramData\\Anaconda2\\lib\\site-packages\\flask\\app.py\", line 1799, in dispatch_request\n",
      "    return self.view_functions[rule.endpoint](**req.view_args)\n",
      "  File \"<ipython-input-29-615e519ba747>\", line 71, in tweets\n",
      "    orm.post_tweet(_tweet, bot_output, pk)\n",
      "  File \"C:\\Users\\HP PC\\Untitled Folder\\orm.py\", line 73, in post_tweet\n",
      "    # VALUES (\"{}\",\"{}\",\"{}\");\n",
      "sqlite3.OperationalError: near \"10\": syntax error\n",
      "ERROR:flask.app:Exception on /tweets [POST]\n",
      "Traceback (most recent call last):\n",
      "  File \"C:\\ProgramData\\Anaconda2\\lib\\site-packages\\flask\\app.py\", line 2292, in wsgi_app\n",
      "    response = self.full_dispatch_request()\n",
      "  File \"C:\\ProgramData\\Anaconda2\\lib\\site-packages\\flask\\app.py\", line 1815, in full_dispatch_request\n",
      "    rv = self.handle_user_exception(e)\n",
      "  File \"C:\\ProgramData\\Anaconda2\\lib\\site-packages\\flask\\app.py\", line 1718, in handle_user_exception\n",
      "    reraise(exc_type, exc_value, tb)\n",
      "  File \"C:\\ProgramData\\Anaconda2\\lib\\site-packages\\flask\\_compat.py\", line 35, in reraise\n",
      "    raise value\n",
      "  File \"C:\\ProgramData\\Anaconda2\\lib\\site-packages\\flask\\app.py\", line 1813, in full_dispatch_request\n",
      "    rv = self.dispatch_request()\n",
      "  File \"C:\\ProgramData\\Anaconda2\\lib\\site-packages\\flask\\app.py\", line 1799, in dispatch_request\n",
      "    return self.view_functions[rule.endpoint](**req.view_args)\n",
      "  File \"<ipython-input-29-615e519ba747>\", line 71, in tweets\n",
      "    orm.post_tweet(_tweet, bot_output, pk)\n",
      "  File \"C:\\Users\\HP PC\\Untitled Folder\\orm.py\", line 73, in post_tweet\n",
      "    # VALUES (\"{}\",\"{}\",\"{}\");\n",
      "sqlite3.OperationalError: near \"10\": syntax error\n",
      "127.0.0.1 - - [25/Mar/2019 00:15:57] \"\u001b[1m\u001b[35mPOST /tweets HTTP/1.1\u001b[0m\" 500 -\n",
      "INFO:werkzeug:127.0.0.1 - - [25/Mar/2019 00:15:57] \"\u001b[1m\u001b[35mPOST /tweets HTTP/1.1\u001b[0m\" 500 -\n"
     ]
    },
    {
     "name": "stdout",
     "output_type": "stream",
     "text": [
      "bot are used in industry ?\n",
      "2\n",
      "Results :\n",
      "botresponse \"10 ways you may have already used ibm watson\".\n",
      "Indu\n",
      "fetched info [(1, 'Indu')]\n",
      "fetched pk (1,)\n",
      "bye\n",
      "botresponse Bye! take care..\n"
     ]
    },
    {
     "name": "stderr",
     "output_type": "stream",
     "text": [
      "127.0.0.1 - - [25/Mar/2019 00:16:08] \"\u001b[37mPOST /tweets HTTP/1.1\u001b[0m\" 200 -\n",
      "INFO:werkzeug:127.0.0.1 - - [25/Mar/2019 00:16:08] \"\u001b[37mPOST /tweets HTTP/1.1\u001b[0m\" 200 -\n"
     ]
    },
    {
     "name": "stdout",
     "output_type": "stream",
     "text": [
      "Indu\n",
      "fetched info [(1, 'Indu')]\n",
      "fetched pk (1,)\n",
      "hi\n",
      "botresponse *nods*\n"
     ]
    },
    {
     "name": "stderr",
     "output_type": "stream",
     "text": [
      "127.0.0.1 - - [25/Mar/2019 00:19:38] \"\u001b[37mPOST /tweets HTTP/1.1\u001b[0m\" 200 -\n",
      "INFO:werkzeug:127.0.0.1 - - [25/Mar/2019 00:19:38] \"\u001b[37mPOST /tweets HTTP/1.1\u001b[0m\" 200 -\n"
     ]
    },
    {
     "name": "stdout",
     "output_type": "stream",
     "text": [
      "Indu\n",
      "fetched info [(1, 'Indu')]\n",
      "fetched pk (1,)\n",
      "bot are used in industry ?\n",
      "{'where all the bots used': 1, 'bot are used in industry ?': 3}\n",
      "prev qs bot are used in industry ?\n",
      "quest  bot are used in industry ?\n",
      "bot are used in industry ?\n",
      "3\n",
      "Results :\n",
      "botresponse \"facebook messenger hits 100,000 bots\".\n"
     ]
    },
    {
     "name": "stderr",
     "output_type": "stream",
     "text": [
      "[2019-03-25 00:19:50,812] ERROR in app: Exception on /tweets [POST]\n",
      "Traceback (most recent call last):\n",
      "  File \"C:\\ProgramData\\Anaconda2\\lib\\site-packages\\flask\\app.py\", line 2292, in wsgi_app\n",
      "    response = self.full_dispatch_request()\n",
      "  File \"C:\\ProgramData\\Anaconda2\\lib\\site-packages\\flask\\app.py\", line 1815, in full_dispatch_request\n",
      "    rv = self.handle_user_exception(e)\n",
      "  File \"C:\\ProgramData\\Anaconda2\\lib\\site-packages\\flask\\app.py\", line 1718, in handle_user_exception\n",
      "    reraise(exc_type, exc_value, tb)\n",
      "  File \"C:\\ProgramData\\Anaconda2\\lib\\site-packages\\flask\\_compat.py\", line 35, in reraise\n",
      "    raise value\n",
      "  File \"C:\\ProgramData\\Anaconda2\\lib\\site-packages\\flask\\app.py\", line 1813, in full_dispatch_request\n",
      "    rv = self.dispatch_request()\n",
      "  File \"C:\\ProgramData\\Anaconda2\\lib\\site-packages\\flask\\app.py\", line 1799, in dispatch_request\n",
      "    return self.view_functions[rule.endpoint](**req.view_args)\n",
      "  File \"<ipython-input-29-615e519ba747>\", line 71, in tweets\n",
      "    orm.post_tweet(_tweet, bot_output, pk)\n",
      "  File \"C:\\Users\\HP PC\\Untitled Folder\\orm.py\", line 73, in post_tweet\n",
      "    # VALUES (\"{}\",\"{}\",\"{}\");\n",
      "sqlite3.OperationalError: near \"facebook\": syntax error\n",
      "ERROR:flask.app:Exception on /tweets [POST]\n",
      "Traceback (most recent call last):\n",
      "  File \"C:\\ProgramData\\Anaconda2\\lib\\site-packages\\flask\\app.py\", line 2292, in wsgi_app\n",
      "    response = self.full_dispatch_request()\n",
      "  File \"C:\\ProgramData\\Anaconda2\\lib\\site-packages\\flask\\app.py\", line 1815, in full_dispatch_request\n",
      "    rv = self.handle_user_exception(e)\n",
      "  File \"C:\\ProgramData\\Anaconda2\\lib\\site-packages\\flask\\app.py\", line 1718, in handle_user_exception\n",
      "    reraise(exc_type, exc_value, tb)\n",
      "  File \"C:\\ProgramData\\Anaconda2\\lib\\site-packages\\flask\\_compat.py\", line 35, in reraise\n",
      "    raise value\n",
      "  File \"C:\\ProgramData\\Anaconda2\\lib\\site-packages\\flask\\app.py\", line 1813, in full_dispatch_request\n",
      "    rv = self.dispatch_request()\n",
      "  File \"C:\\ProgramData\\Anaconda2\\lib\\site-packages\\flask\\app.py\", line 1799, in dispatch_request\n",
      "    return self.view_functions[rule.endpoint](**req.view_args)\n",
      "  File \"<ipython-input-29-615e519ba747>\", line 71, in tweets\n",
      "    orm.post_tweet(_tweet, bot_output, pk)\n",
      "  File \"C:\\Users\\HP PC\\Untitled Folder\\orm.py\", line 73, in post_tweet\n",
      "    # VALUES (\"{}\",\"{}\",\"{}\");\n",
      "sqlite3.OperationalError: near \"facebook\": syntax error\n",
      "127.0.0.1 - - [25/Mar/2019 00:19:51] \"\u001b[1m\u001b[35mPOST /tweets HTTP/1.1\u001b[0m\" 500 -\n",
      "INFO:werkzeug:127.0.0.1 - - [25/Mar/2019 00:19:51] \"\u001b[1m\u001b[35mPOST /tweets HTTP/1.1\u001b[0m\" 500 -\n"
     ]
    }
   ],
   "source": [
    "  #!/usr/bin/env python3\n",
    "\n",
    "from flask import Flask, render_template, request, session, json\n",
    "\n",
    "import os, sqlite3\n",
    "\n",
    "import orm, ire\n",
    "\n",
    "\n",
    "\n",
    "app = Flask(__name__)\n",
    "\n",
    "connection = sqlite3.connect('test.db')\n",
    "cursor = connection.cursor()\n",
    "\n",
    "\n",
    "@app.route('/home')\n",
    "def indu():\n",
    "    print('you are in home')\n",
    "    h1 = 'Home'\n",
    "    title = 'Flask-Twitter'\n",
    "    tweets = orm.get_all_tweets()\n",
    "    tweets = tweets[::-1]\n",
    "    print(tweets)\n",
    "    return render_template('index.html', tweets=tweets)\n",
    "\n",
    "@app.route('/showSignUp', methods=[\"GET\", \"POST\"])\n",
    "def showSignUp():\n",
    "    return render_template('signup.html')\n",
    "\n",
    "\n",
    "@app.route('/signUp', methods=[\"GET\", \"POST\"])\n",
    "def signUp():\n",
    "    _name = request.form['inputName']\n",
    "    print('_name' , _name)\n",
    "    if _name:\n",
    "        return json.dumps({'html':'<span>All fields good!</span>'})\n",
    "    else:\n",
    "        return json.dumps({'html':'<span>Enter the required fields</span>'})\n",
    "\n",
    "\n",
    "@app.route('/user', methods=[\"GET\", \"POST\"])\n",
    "def lookup():\n",
    "    h1 = 'Tweets'\n",
    "    title = 'Flask-Twitter'\n",
    "    _name = request.form['inputName']\n",
    "    session['_name'] = _name\n",
    "    print('_name', _name)\n",
    "    # check if user exists, if not create account, either way return userID\n",
    "    pk = orm.check_if_user_exists(_name)\n",
    "    print(pk)\n",
    "    # get all tweets from db\n",
    "    tweets = orm.get_all_tweets()\n",
    "    tweets = tweets[::-1]\n",
    "    return render_template('user.html', h1=h1, title=title, _name=_name, tweets=tweets)\n",
    "\n",
    "\n",
    "@app.route('/tweets', methods=[\"GET\", \"POST\"])\n",
    "def tweets():\n",
    "    h1 = 'Tweets'\n",
    "    title = 'Flask-Twitter'\n",
    "    _name = session['_name']\n",
    "    print(_name)\n",
    "    # check if user exists, if not create account, either way return userID\n",
    "    pk = orm.check_if_user_exists(_name)\n",
    "    # get the new tweet\n",
    "    _tweet = request.form['inputName']\n",
    "    print(_tweet)\n",
    "    bot_output = ire.get_response(_tweet)\n",
    "    # post the new tweet\n",
    "    orm.post_tweet(_tweet, bot_output, pk)\n",
    "    # get all tweets from db\n",
    "    tweets = orm.get_all_tweets()\n",
    "    tweets = tweets[::-1][::-1]\n",
    "    return render_template('tweets.html', h1=h1, title=title, _name=_name, tweets=tweets)\n",
    "\n",
    "@app.route('/seriouslykill', methods=['POST'])\n",
    "def seriouslykill():\n",
    "    func = request.environ.get('werkzeug.server.shutdown')\n",
    "    if func is None:\n",
    "        raise RuntimeError('Not running with the Werkzeug Server')\n",
    "    func()\n",
    "    return \"Shutting down...\"\n",
    "\n",
    "if __name__ == '__main__':\n",
    "    ####################################################################################################\n",
    "    ########################################### CHATBOT LOAD ###########################################\n",
    "    ####################################################################################################\n",
    "    #import ire\n",
    "\n",
    "    linkedin = 'https://www.linkedin.com/in/rodcoelho/'\n",
    "    github = 'https://github.com/rodcoelho'\n",
    "    new = 2\n",
    "\n",
    "     \n",
    "    def clearmemory():\n",
    "        os.system('rm database.sqlite3')\n",
    "        os.system('clear')\n",
    "\n",
    "    ####################################################################################################\n",
    "    ########################################### CHATBOT LOAD ###########################################\n",
    "    ####################################################################################################\n",
    "\n",
    "    print('im restring')\n",
    "    app.secret_key = 'super secret key' \n",
    "    app.run()\n",
    "\n"
   ]
  },
  {
   "cell_type": "code",
   "execution_count": null,
   "metadata": {},
   "outputs": [],
   "source": [
    "import sqlite3\n",
    "connection = sqlite3.connect('test.db')\n",
    "cursor = connection.cursor()\n",
    "\n",
    "# get all tweets with userID\n",
    "cursor.execute(\"\"\"SELECT * FROM tweets ;\"\"\".format())\n",
    "tweets = cursor.fetchall()"
   ]
  },
  {
   "cell_type": "code",
   "execution_count": null,
   "metadata": {},
   "outputs": [],
   "source": [
    "print(tweets)"
   ]
  },
  {
   "cell_type": "code",
   "execution_count": null,
   "metadata": {},
   "outputs": [],
   "source": [
    "import ire\n",
    "ire.get_response('bot')\n"
   ]
  },
  {
   "cell_type": "code",
   "execution_count": 14,
   "metadata": {},
   "outputs": [],
   "source": [
    "botresponse='botresponse \"2017 messenger bot landscape, a public spreadsheet gathering 1000+ messenger bots\".'\n",
    "userId='Indu'\n",
    "words='where all the bots used'"
   ]
  },
  {
   "cell_type": "code",
   "execution_count": 15,
   "metadata": {},
   "outputs": [
    {
     "data": {
      "text/plain": [
       "'botresponse \"2017 messenger bot landscape, a public spreadsheet gathering 1000+ messenger bots\".'"
      ]
     },
     "execution_count": 15,
     "metadata": {},
     "output_type": "execute_result"
    }
   ],
   "source": [
    "botresponse"
   ]
  },
  {
   "cell_type": "code",
   "execution_count": 26,
   "metadata": {},
   "outputs": [
    {
     "name": "stdout",
     "output_type": "stream",
     "text": [
      "botresponse botresponse \"2017 messenger bot landscape, a public spreadsheet gathering 1000+ messenger bots\".\n"
     ]
    }
   ],
   "source": [
    "connection = sqlite3.connect('test.db')\n",
    "cursor = connection.cursor()\n",
    "print('botresponse', botresponse)\n",
    "cursor.execute(\"INSERT INTO tweets(userID,tweet,response) VALUES (?,?,? )\", (userId, words, botresponse))\n",
    "               #.format(str(userId), str(words), str(botresponse)))\n",
    "connection.commit()"
   ]
  },
  {
   "cell_type": "code",
   "execution_count": null,
   "metadata": {},
   "outputs": [],
   "source": []
  }
 ],
 "metadata": {
  "kernelspec": {
   "display_name": "Python 3",
   "language": "python",
   "name": "python3"
  },
  "language_info": {
   "codemirror_mode": {
    "name": "ipython",
    "version": 3
   },
   "file_extension": ".py",
   "mimetype": "text/x-python",
   "name": "python",
   "nbconvert_exporter": "python",
   "pygments_lexer": "ipython3",
   "version": "3.6.8"
  }
 },
 "nbformat": 4,
 "nbformat_minor": 2
}
