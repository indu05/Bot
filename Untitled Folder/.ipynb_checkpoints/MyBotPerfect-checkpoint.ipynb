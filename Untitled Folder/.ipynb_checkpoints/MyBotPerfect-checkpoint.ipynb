{
 "cells": [
  {
   "cell_type": "code",
   "execution_count": null,
   "metadata": {},
   "outputs": [],
   "source": [
    "import nltk\n",
    "import numpy as np\n",
    "import random\n",
    "import string \n",
    "from sklearn.feature_extraction.text import TfidfVectorizer\n",
    "from sklearn.metrics.pairwise import cosine_similarity\n",
    "from sklearn.metrics import pairwise_distances_chunked\n",
    "import math\n",
    "questions = {}"
   ]
  },
  {
   "cell_type": "code",
   "execution_count": null,
   "metadata": {},
   "outputs": [],
   "source": [
    "f=open('C:\\\\Users\\\\HP PC\\\\Untitled Folder\\\\chatbot.txt')\n",
    "raw=f.read()\n",
    "raw=raw.lower()# converts to lowercase \n",
    "sent_tokens = nltk.sent_tokenize(raw)# converts to list of sentences \n",
    "word_tokens = nltk.word_tokenize(raw)# converts to list of words"
   ]
  },
  {
   "cell_type": "code",
   "execution_count": null,
   "metadata": {},
   "outputs": [],
   "source": [
    "lemmer = nltk.stem.WordNetLemmatizer()\n",
    "def LemTokens(tokens):\n",
    "    return [lemmer.lemmatize(token) for token in tokens]\n",
    "remove_punct_dict = dict((ord(punct), None) for punct in string.punctuation)\n",
    "def LemNormalize(text):\n",
    "    return LemTokens(nltk.word_tokenize(text.lower().translate(remove_punct_dict)))"
   ]
  },
  {
   "cell_type": "code",
   "execution_count": null,
   "metadata": {},
   "outputs": [],
   "source": [
    "GREETING_INPUTS = (\"hello\", \"hi\", \"greetings\", \"sup\", \"what's up\",\"hey\",)\n",
    "GREETING_RESPONSES = [\"hi\", \"hey\", \"*nods*\", \"hi there\", \"hello\", \"I am glad! You are talking to me\"]\n",
    "MORE_ANSWERS = [\"more\", \"next\" , \"anything else\" , \"yes\", \"ok\"]\n",
    "CONNECTING_STATMENTS = ['hmm', 'ouch', 'oops']\n",
    "EXCALMAT_STATEMENTS = ['funny', 'woow', 'good']\n",
    "def greeting(sentence):\n",
    " \n",
    "    for word in sentence.split():\n",
    "        if word.lower() in GREETING_INPUTS:\n",
    "            return random.choice(GREETING_RESPONSES)"
   ]
  },
  {
   "cell_type": "code",
   "execution_count": null,
   "metadata": {},
   "outputs": [],
   "source": [
    "def getTheIterIndexOfQues(ques):\n",
    "    print(ques)\n",
    "    print(questions[ques])\n",
    "    cnt = questions[ques]\n",
    "    return math.ceil((cnt/5))*5\n",
    "    "
   ]
  },
  {
   "cell_type": "code",
   "execution_count": null,
   "metadata": {},
   "outputs": [],
   "source": [
    "def response(user_sent_tokens):  \n",
    "    print('quest ', user_sent_tokens)\n",
    "    sent_tokens.append(user_sent_tokens) \n",
    "    TfidfVec = TfidfVectorizer(tokenizer=LemNormalize, stop_words='english') \n",
    "    tfidf = TfidfVec.fit_transform(sent_tokens)\n",
    "    vals = cosine_similarity(tfidf, tfidf[tfidf.shape[0]-1]) \n",
    "    answerCnt = getTheIterIndexOfQues(user_sent_tokens)\n",
    "    a = vals.argsort(axis=0)[::-1][:answerCnt]\n",
    "    tp = tuple(a.reshape(1, -1)[0]) \n",
    "    ntp = {}\n",
    "    i=0 \n",
    "    for ele in tp:        \n",
    "        if (i==0):\n",
    "            print('Results :')\n",
    "        else: \n",
    "            if(vals[ele][0] > 0):                \n",
    "                ntp[i]=sent_tokens[ele]                  \n",
    "        i=i+1\n",
    "    sent_tokens.pop(tfidf.shape[0]-1) \n",
    "    return ntp "
   ]
  },
  {
   "cell_type": "code",
   "execution_count": null,
   "metadata": {},
   "outputs": [],
   "source": [
    "def prepareResponse(result,user_response):    \n",
    "    if(questions[user_response] in result):\n",
    "        print(result[questions[user_response]])\n",
    "    else:\n",
    "        print('Sorry, refine your question')\n",
    "    \n",
    "     "
   ]
  },
  {
   "cell_type": "code",
   "execution_count": null,
   "metadata": {},
   "outputs": [],
   "source": [
    "def isQuestionBeenAsked(user_response):\n",
    "    preparedQs = \"\"\n",
    "    questionAsked = user_response.lower();\n",
    "    if(questionAsked in MORE_ANSWERS):\n",
    "        quesList= list(questions.keys()) \n",
    "        print(quesList)\n",
    "        if(len(quesList) > 0):\n",
    "            lastQuestIndex = len(quesList)-1\n",
    "            print('lastQuestIndex', lastQuestIndex)\n",
    "            lastQuesAnsweredIdx = questions[quesList[lastQuestIndex]] \n",
    "            print('lastQuesAnsweredIdx', lastQuesAnsweredIdx)\n",
    "            questions[quesList[lastQuestIndex]] = lastQuesAnsweredIdx + 1\n",
    "            print('quesList[lastQuestIndex]', quesList[lastQuestIndex])\n",
    "            preparedQs = quesList[lastQuestIndex]\n",
    "        else :\n",
    "            preparedQs = \"BREAK_NO_PREV_QS\"\n",
    "        \n",
    "    elif (questionAsked in questions):\n",
    "        questions[questionAsked] =  questions[questionAsked] +1\n",
    "        preparedQs = questionAsked\n",
    "    else :\n",
    "        questions[user_response] = 1\n",
    "        preparedQs = user_response.lower()\n",
    " \n",
    "    print(questions)\n",
    "    print('prev qs' , preparedQs)\n",
    "    return preparedQs\n"
   ]
  },
  {
   "cell_type": "code",
   "execution_count": null,
   "metadata": {},
   "outputs": [],
   "source": [
    "def isNotValidQs(user_response):\n",
    "    return (user_response == 'BREAK_NO_PREV_QS')\n",
    "        "
   ]
  },
  {
   "cell_type": "code",
   "execution_count": null,
   "metadata": {},
   "outputs": [],
   "source": [
    "flag=True\n",
    "print(\"ROBO: My name is Robo. I will answer your queries about WCADS. If you want to exit, type Bye!\")\n",
    "while(flag==True): \n",
    "    user_response = input()\n",
    "    user_response=user_response.lower()\n",
    "    if(user_response!='bye'):\n",
    "        if(user_response=='thanks' or user_response=='thank you' ):\n",
    "            flag=False\n",
    "            print(\"ROBO: You are welcome..\")\n",
    "        else:\n",
    "            if(greeting(user_response)!=None):\n",
    "                print(\"ROBO: \"+greeting(user_response))\n",
    "            else:                \n",
    "                if(user_response in CONNECTING_STATMENTS):\n",
    "                    print(\"ROBO: Do you like my response ?\")\n",
    "                elif(user_response in EXCALMAT_STATEMENTS):\n",
    "                        print(\"ROBO: Thank you, say ok to continue\")\n",
    "                \n",
    "                else :\n",
    "                    user_response = isQuestionBeenAsked(user_response)\n",
    "                    if(isNotValidQs(user_response)):                     \n",
    "                        print('ROBO: Please start a conversation about you want to know !!')\n",
    "                    else:\n",
    "                        result = response(user_response) \n",
    "                        prepareResponse(result,user_response)                \n",
    "    else:\n",
    "        flag=False\n",
    "        print(\"ROBO: Bye! take care..\")"
   ]
  },
  {
   "cell_type": "code",
   "execution_count": null,
   "metadata": {},
   "outputs": [],
   "source": [
    " questions.pop('hmm')"
   ]
  },
  {
   "cell_type": "code",
   "execution_count": null,
   "metadata": {},
   "outputs": [],
   "source": [
    "print(wn.synsets('oops') )"
   ]
  },
  {
   "cell_type": "code",
   "execution_count": null,
   "metadata": {},
   "outputs": [],
   "source": []
  }
 ],
 "metadata": {
  "kernelspec": {
   "display_name": "Python 3",
   "language": "python",
   "name": "python3"
  },
  "language_info": {
   "codemirror_mode": {
    "name": "ipython",
    "version": 3
   },
   "file_extension": ".py",
   "mimetype": "text/x-python",
   "name": "python",
   "nbconvert_exporter": "python",
   "pygments_lexer": "ipython3",
   "version": "3.6.8"
  }
 },
 "nbformat": 4,
 "nbformat_minor": 2
}
