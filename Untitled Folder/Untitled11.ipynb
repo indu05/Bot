{
 "cells": [
  {
   "cell_type": "code",
   "execution_count": null,
   "metadata": {},
   "outputs": [],
   "source": [
    " import sqlite3\n",
    "\n",
    "connection = sqlite3.connect('test.db')\n",
    "cursor = connection.cursor()\n",
    "\n",
    "cursor.execute(\"\"\"\n",
    "CREATE TABLE users(\n",
    "pk INTEGER,\n",
    "name VARCHAR(32),\n",
    "PRIMARY KEY(pk))\n",
    ";\"\"\")\n",
    "\n",
    "cursor.execute(\"\"\"\n",
    "CREATE TABLE tweets(\n",
    "pk INTEGER,\n",
    "userID INTEGER,\n",
    "tweet VARCHAR,\n",
    "response VARCHAR,\n",
    "FOREIGN KEY(userID) REFERENCES users(pk),\n",
    "PRIMARY KEY(pk))\n",
    ";\"\"\")\n",
    "\n",
    "connection.commit()\n",
    "cursor.close()\n"
   ]
  },
  {
   "cell_type": "code",
   "execution_count": null,
   "metadata": {},
   "outputs": [],
   "source": [
    "import nltk\n",
    "nltk.download('punkt')"
   ]
  },
  {
   "cell_type": "code",
   "execution_count": null,
   "metadata": {},
   "outputs": [
    {
     "name": "stdout",
     "output_type": "stream",
     "text": [
      "im restring\n",
      " * Serving Flask app \"__main__\" (lazy loading)\n",
      " * Environment: production\n",
      "   WARNING: Do not use the development server in a production environment.\n",
      "   Use a production WSGI server instead.\n",
      " * Debug mode: off\n"
     ]
    },
    {
     "name": "stderr",
     "output_type": "stream",
     "text": [
      " * Running on http://127.0.0.1:5000/ (Press CTRL+C to quit)\n",
      "127.0.0.1 - - [25/Mar/2019 00:24:26] \"\u001b[37mGET /home HTTP/1.1\u001b[0m\" 200 -\n"
     ]
    },
    {
     "name": "stdout",
     "output_type": "stream",
     "text": [
      "you are in home\n",
      "[('hi', 'Indu', '*nods*'), ('bye', 'Indu', 'Bye! take care..'), ('hello', 'Indu', 'hi'), ('hello', 'Indu', 'hello'), ('hello', 'Indu', 'hello'), ('hello', 'Indu', 'hi'), ('next', 'Indu', 'Sorry, refine your question'), ('next', 'Indu', '[43][44][45] these cloud platforms provide natural language processing, artificial intelligence and mobile backend as a service for chatbot development.'), ('cloud', 'Indu', 'chatbot development platforms\\nthe process of building, testing and deploying chatbots can be done on cloud-based chatbot development platforms[42] offered by cloud platform as a service (paas) providers such as oracle cloud platform and ibm watson.'), ('Hello', 'Indu', 'hey'), ('hello', 'Indu', 'hi'), ('bye', 'Indu', 'Bye! take care..'), ('next', 'Indu', 'Sorry, refine your question'), ('next', 'Indu', 'some chatbots use sophisticated natural language processing systems, but many simpler ones scan for keywords within the input, then pull a reply with the most matching keywords, or the most similar wording pattern, from a database.'), ('ok', 'Indu', '[43][44][45] these cloud platforms provide natural language processing, artificial intelligence and mobile backend as a service for chatbot development.'), ('woow', 'Indu', 'Thank you, say ok to continue'), ('wow', 'Indu', 'Sorry, refine your question'), ('ok', 'Indu', '[14]\\n\\none pertinent field of ai research is natural language processing.'), ('can bot process natural language ?', 'Indu', 'these intelligent chatbots make use of all kinds of artificial intelligence like image moderation and natural language understanding (nlu), natural language generation (nlg), machine learning and deep learning.'), ('next', 'Indu', 'Sorry, refine your question'), ('next', 'Indu', '[43][44][45] these cloud platforms provide natural language processing, artificial intelligence and mobile backend as a service for chatbot development.'), ('cloud', 'Indu', 'chatbot development platforms\\nthe process of building, testing and deploying chatbots can be done on cloud-based chatbot development platforms[42] offered by cloud platform as a service (paas) providers such as oracle cloud platform and ibm watson.'), ('bots are used in cloud ?', 'Indu', 'chatbot development platforms\\nthe process of building, testing and deploying chatbots can be done on cloud-based chatbot development platforms[42] offered by cloud platform as a service (paas) providers such as oracle cloud platform and ibm watson.'), ('platform', 'Indu', 'chatbot development platforms\\nthe process of building, testing and deploying chatbots can be done on cloud-based chatbot development platforms[42] offered by cloud platform as a service (paas) providers such as oracle cloud platform and ibm watson.'), ('service', 'Indu', 'they are used for b2c customer service, sales and marketing.'), ('next', 'Indu', '[43][44][45] these cloud platforms provide natural language processing, artificial intelligence and mobile backend as a service for chatbot development.'), ('next', 'Indu', 'advances in computational intelligence systems (1st ed.).'), ('intelligence', 'Indu', 'bi intelligence.'), ('ok', 'Indu', 'Please start a conversation about you want to know !!'), ('anything else', 'Indu', 'Sorry, refine your question'), ('ok', 'Indu', 'designing bots: creating conversational experiences (first ed.).'), ('bot', 'Indu', 'chatbots: building intelligent, cross-platform, messaging bots.'), ('Hi', 'Indu', 'hi there'), ('bye', 'Indu', 'Bye! take care..'), ('ok', 'Indu', 'Please start a conversation about you want to know !!'), ('more', 'Indu', 'Sorry, refine your question'), ('ok', 'Indu', 'designing bots: creating conversational experiences (first ed.).'), ('more', 'Indu', 'chatbots: building intelligent, cross-platform, messaging bots.'), ('more', 'Indu', 'Sorry, refine your question'), ('eliza', 'Indu', \"the notoriety of turing's proposed test stimulated great interest in joseph weizenbaum's program eliza, published in 1966, which seemed to be able to fool users into believing that they were conversing with a real human.\"), ('hi', 'Indu', 'hello'), ('more', 'Indu', 'while eliza and parry were used exclusively to simulate typed conversation, many chatbots now include functional features such as games and web searching abilities.'), ('Eliza', 'Indu', 'development\\nthe classic historic early chatbots are eliza (1966) and parry (1972).'), ('Hi', 'Indu', 'hello'), ('Hi', 'Indu', 'hi'), ('more', 'Indu', 'Please start a conversation about you want to know !!'), ('ok', 'Indu', 'Sorry, refine your question'), ('ok', 'Indu', 'Sorry, refine your question'), ('yes', 'Indu', 'a chatbot (also known as a smartbot, talkbot, chatterbot, bot, im bot, interactive agent, conversational interface, conversational ai, or artificial conversational entity) is a computer program or an artificial intelligence which conducts a conversation via auditory or textual methods.'), ('hmm', 'Indu', 'Do you like my response ?'), ('chatterbot', 'Indu', 'retrieved 2007-12-09. psychologist and scientific american: mind contributing editor robert epstein reports how he was initially fooled by a chatterbot posing as an attractive girl in a personal ad he answered on a dating website.'), ('hi', 'Indu', 'hello'), ('good', 'Indu', 'Thank you, say ok to continue'), ('yes', 'Indu', \"the notoriety of turing's proposed test stimulated great interest in joseph weizenbaum's program eliza, published in 1966, which seemed to be able to fool users into believing that they were conversing with a real human.\"), ('hmm', 'Indu', 'Do you like my response ?'), ('more', 'Indu', 'while eliza and parry were used exclusively to simulate typed conversation, many chatbots now include functional features such as games and web searching abilities.'), ('eliza', 'Indu', 'development\\nthe classic historic early chatbots are eliza (1966) and parry (1972).'), ('hi', 'Indu', 'hey'), ('Radhu', 'Indu', 'Sorry, refine your question'), ('hi', 'Indu', 'I am glad! You are talking to me'), ('ok', 'Indu', 'Sorry, refine your question'), ('next', 'Indu', \"the notoriety of turing's proposed test stimulated great interest in joseph weizenbaum's program eliza, published in 1966, which seemed to be able to fool users into believing that they were conversing with a real human.\"), ('next', 'Indu', 'while eliza and parry were used exclusively to simulate typed conversation, many chatbots now include functional features such as games and web searching abilities.'), ('Eliza', 'Indu', 'development\\nthe classic historic early chatbots are eliza (1966) and parry (1972).'), ('hello', 'Indu', 'I am glad! You are talking to me'), ('intelligebce', 'Indu', 'Sorry, refine your question'), ('know', 'Indu', 'Sorry, refine your question'), ('i dont know', 'Indu', 'Sorry, refine your question'), ('ok', 'Indu', 'Please start a conversation about you want to know !!'), ('yes', 'Indu', 'Please start a conversation about you want to know !!'), ('hmm', 'Indu', 'Do you like my response ?'), ('more', 'Indu', 'Sorry, refine your question'), ('more', 'Indu', 'a chatbot (also known as a smartbot, talkbot, chatterbot, bot, im bot, interactive agent, conversational interface, conversational ai, or artificial conversational entity) is a computer program or an artificial intelligence which conducts a conversation via auditory or textual methods.'), ('chatterbot', 'Indu', 'retrieved 2007-12-09. psychologist and scientific american: mind contributing editor robert epstein reports how he was initially fooled by a chatterbot posing as an attractive girl in a personal ad he answered on a dating website.'), ('hi', 'Indu', 'hi there'), ('Radhu', 'Indu', 'Sorry, refine your question'), ('hi', 'Radhu', 'I am glad! You are talking to me'), ('hello', 'Indu', 'hi'), ('bye', 'Indu', 'Bye! take care..'), ('hi', 'Indu', 'hey'), ('hi', 'Indu', 'ROBO: hi there'), ('good', 'Indu', 'ROBO: Thank you, say ok to continue'), ('anything else', 'Indu', 'while eliza and parry were used exclusively to simulate typed conversation, many chatbots now include functional features such as games and web searching abilities.'), ('eliza', 'Indu', 'development\\nthe classic historic early chatbots are eliza (1966) and parry (1972).'), ('hi', 'Indu', 'ROBO: hello')]\n"
     ]
    },
    {
     "name": "stderr",
     "output_type": "stream",
     "text": [
      "127.0.0.1 - - [25/Mar/2019 00:24:43] \"\u001b[37mGET /showSignUp HTTP/1.1\u001b[0m\" 200 -\n",
      "127.0.0.1 - - [25/Mar/2019 00:24:46] \"\u001b[37mPOST /signUp HTTP/1.1\u001b[0m\" 200 -\n"
     ]
    },
    {
     "name": "stdout",
     "output_type": "stream",
     "text": [
      "_name Indu\n",
      "_name Indu\n",
      "fetched info [(1, 'Indu')]\n",
      "fetched pk (1,)\n",
      "(1,)\n"
     ]
    },
    {
     "name": "stderr",
     "output_type": "stream",
     "text": [
      "127.0.0.1 - - [25/Mar/2019 00:24:46] \"\u001b[37mPOST /user HTTP/1.1\u001b[0m\" 200 -\n",
      "127.0.0.1 - - [25/Mar/2019 00:24:51] \"\u001b[37mPOST /signUp HTTP/1.1\u001b[0m\" 200 -\n"
     ]
    },
    {
     "name": "stdout",
     "output_type": "stream",
     "text": [
      "_name bot are used in industry ?\n",
      "Indu\n",
      "fetched info [(1, 'Indu')]\n",
      "fetched pk (1,)\n",
      "bot are used in industry ?\n",
      "{'bot are used in industry ?': 1}\n",
      "prev qs bot are used in industry ?\n",
      "quest  bot are used in industry ?\n"
     ]
    },
    {
     "name": "stderr",
     "output_type": "stream",
     "text": [
      "C:\\ProgramData\\Anaconda2\\lib\\site-packages\\sklearn\\feature_extraction\\text.py:301: UserWarning: Your stop_words may be inconsistent with your preprocessing. Tokenizing the stop words generated tokens ['ha', 'le', 'u', 'wa'] not in stop_words.\n",
      "  'stop_words.' % sorted(inconsistent))\n",
      "127.0.0.1 - - [25/Mar/2019 00:24:56] \"\u001b[37mPOST /tweets HTTP/1.1\u001b[0m\" 200 -\n"
     ]
    },
    {
     "name": "stdout",
     "output_type": "stream",
     "text": [
      "bot are used in industry ?\n",
      "1\n",
      "Results :\n",
      "botresponse \"2017 messenger bot landscape, a public spreadsheet gathering 1000+ messenger bots\".\n",
      "Indu\n",
      "fetched info [(1, 'Indu')]\n",
      "fetched pk (1,)\n",
      "next\n",
      "['bot are used in industry ?']\n",
      "lastQuestIndex 0\n",
      "lastQuesAnsweredIdx 1\n",
      "quesList[lastQuestIndex] bot are used in industry ?\n",
      "{'bot are used in industry ?': 2}\n",
      "prev qs bot are used in industry ?\n",
      "quest  bot are used in industry ?\n"
     ]
    },
    {
     "name": "stderr",
     "output_type": "stream",
     "text": [
      "127.0.0.1 - - [25/Mar/2019 00:25:09] \"\u001b[37mPOST /tweets HTTP/1.1\u001b[0m\" 200 -\n"
     ]
    },
    {
     "name": "stdout",
     "output_type": "stream",
     "text": [
      "bot are used in industry ?\n",
      "2\n",
      "Results :\n",
      "botresponse \"10 ways you may have already used ibm watson\".\n",
      "Indu\n",
      "fetched info [(1, 'Indu')]\n",
      "fetched pk (1,)\n",
      "woow\n",
      "botresponse Thank you, say ok to continue\n"
     ]
    },
    {
     "name": "stderr",
     "output_type": "stream",
     "text": [
      "127.0.0.1 - - [25/Mar/2019 00:25:19] \"\u001b[37mPOST /tweets HTTP/1.1\u001b[0m\" 200 -\n"
     ]
    },
    {
     "name": "stdout",
     "output_type": "stream",
     "text": [
      "Indu\n",
      "fetched info [(1, 'Indu')]\n",
      "fetched pk (1,)\n",
      "ok\n",
      "['bot are used in industry ?']\n",
      "lastQuestIndex 0\n",
      "lastQuesAnsweredIdx 2\n",
      "quesList[lastQuestIndex] bot are used in industry ?\n",
      "{'bot are used in industry ?': 3}\n",
      "prev qs bot are used in industry ?\n",
      "quest  bot are used in industry ?\n"
     ]
    },
    {
     "name": "stderr",
     "output_type": "stream",
     "text": [
      "127.0.0.1 - - [25/Mar/2019 00:25:24] \"\u001b[37mPOST /tweets HTTP/1.1\u001b[0m\" 200 -\n"
     ]
    },
    {
     "name": "stdout",
     "output_type": "stream",
     "text": [
      "bot are used in industry ?\n",
      "3\n",
      "Results :\n",
      "botresponse \"facebook messenger hits 100,000 bots\".\n",
      "Indu\n",
      "fetched info [(1, 'Indu')]\n",
      "fetched pk (1,)\n",
      "next\n",
      "['bot are used in industry ?']\n",
      "lastQuestIndex 0\n",
      "lastQuesAnsweredIdx 3\n",
      "quesList[lastQuestIndex] bot are used in industry ?\n",
      "{'bot are used in industry ?': 4}\n",
      "prev qs bot are used in industry ?\n",
      "quest  bot are used in industry ?\n"
     ]
    },
    {
     "name": "stderr",
     "output_type": "stream",
     "text": [
      "127.0.0.1 - - [25/Mar/2019 00:25:30] \"\u001b[37mPOST /tweets HTTP/1.1\u001b[0m\" 200 -\n"
     ]
    },
    {
     "name": "stdout",
     "output_type": "stream",
     "text": [
      "bot are used in industry ?\n",
      "4\n",
      "Results :\n",
      "botresponse chatbots: building intelligent, cross-platform, messaging bots.\n",
      "Indu\n",
      "fetched info [(1, 'Indu')]\n",
      "fetched pk (1,)\n",
      "anything else\n",
      "['bot are used in industry ?']\n",
      "lastQuestIndex 0\n",
      "lastQuesAnsweredIdx 4\n",
      "quesList[lastQuestIndex] bot are used in industry ?\n",
      "{'bot are used in industry ?': 5}\n",
      "prev qs bot are used in industry ?\n",
      "quest  bot are used in industry ?\n"
     ]
    },
    {
     "name": "stderr",
     "output_type": "stream",
     "text": [
      "127.0.0.1 - - [25/Mar/2019 00:25:38] \"\u001b[37mPOST /tweets HTTP/1.1\u001b[0m\" 200 -\n"
     ]
    },
    {
     "name": "stdout",
     "output_type": "stream",
     "text": [
      "bot are used in industry ?\n",
      "5\n",
      "Results :\n",
      "botresponse Sorry, refine your question\n",
      "Indu\n",
      "fetched info [(1, 'Indu')]\n",
      "fetched pk (1,)\n",
      "thanks\n",
      "botresponse You are welcome..\n"
     ]
    },
    {
     "name": "stderr",
     "output_type": "stream",
     "text": [
      "127.0.0.1 - - [25/Mar/2019 00:25:45] \"\u001b[37mPOST /tweets HTTP/1.1\u001b[0m\" 200 -\n"
     ]
    },
    {
     "name": "stdout",
     "output_type": "stream",
     "text": [
      "Indu\n",
      "fetched info [(1, 'Indu')]\n",
      "fetched pk (1,)\n",
      "bye\n",
      "botresponse Bye! take care..\n"
     ]
    },
    {
     "name": "stderr",
     "output_type": "stream",
     "text": [
      "127.0.0.1 - - [25/Mar/2019 00:25:53] \"\u001b[37mPOST /tweets HTTP/1.1\u001b[0m\" 200 -\n",
      "127.0.0.1 - - [25/Mar/2019 00:26:02] \"\u001b[33mGET / HTTP/1.1\u001b[0m\" 404 -\n"
     ]
    }
   ],
   "source": [
    "  #!/usr/bin/env python3\n",
    "\n",
    "from flask import Flask, render_template, request, session, json\n",
    "\n",
    "import os, sqlite3\n",
    "\n",
    "import orm, ire\n",
    "\n",
    "\n",
    "\n",
    "app = Flask(__name__)\n",
    "\n",
    "connection = sqlite3.connect('test.db')\n",
    "cursor = connection.cursor()\n",
    "\n",
    "\n",
    "@app.route('/home')\n",
    "def indu():\n",
    "    print('you are in home')\n",
    "    h1 = 'Home'\n",
    "    title = 'Flask-Twitter'\n",
    "    tweets = orm.get_all_tweets()\n",
    "    tweets = tweets[::-1]\n",
    "    print(tweets)\n",
    "    return render_template('index.html', tweets=tweets)\n",
    "\n",
    "@app.route('/showSignUp', methods=[\"GET\", \"POST\"])\n",
    "def showSignUp():\n",
    "    return render_template('signup.html')\n",
    "\n",
    "\n",
    "@app.route('/signUp', methods=[\"GET\", \"POST\"])\n",
    "def signUp():\n",
    "    _name = request.form['inputName']\n",
    "    print('_name' , _name)\n",
    "    if _name:\n",
    "        return json.dumps({'html':'<span>All fields good!</span>'})\n",
    "    else:\n",
    "        return json.dumps({'html':'<span>Enter the required fields</span>'})\n",
    "\n",
    "\n",
    "@app.route('/user', methods=[\"GET\", \"POST\"])\n",
    "def lookup():\n",
    "    h1 = 'Tweets'\n",
    "    title = 'Flask-Twitter'\n",
    "    _name = request.form['inputName']\n",
    "    session['_name'] = _name\n",
    "    print('_name', _name)\n",
    "    # check if user exists, if not create account, either way return userID\n",
    "    pk = orm.check_if_user_exists(_name)\n",
    "    print(pk)\n",
    "    # get all tweets from db\n",
    "    tweets = orm.get_all_tweets()\n",
    "    tweets = tweets[::-1]\n",
    "    return render_template('user.html', h1=h1, title=title, _name=_name, tweets=tweets)\n",
    "\n",
    "\n",
    "@app.route('/tweets', methods=[\"GET\", \"POST\"])\n",
    "def tweets():\n",
    "    h1 = 'Tweets'\n",
    "    title = 'Flask-Twitter'\n",
    "    _name = session['_name']\n",
    "    print(_name)\n",
    "    # check if user exists, if not create account, either way return userID\n",
    "    pk = orm.check_if_user_exists(_name)\n",
    "    # get the new tweet\n",
    "    _tweet = request.form['inputName']\n",
    "    print(_tweet)\n",
    "    bot_output = ire.get_response(_tweet)\n",
    "    # post the new tweet\n",
    "    orm.post_tweet(_tweet, bot_output, pk)\n",
    "    # get all tweets from db\n",
    "    tweets = orm.get_all_tweets()\n",
    "    tweets = tweets[::-1][::-1]\n",
    "    return render_template('tweets.html', h1=h1, title=title, _name=_name, tweets=tweets)\n",
    "\n",
    "@app.route('/seriouslykill', methods=['POST'])\n",
    "def seriouslykill():\n",
    "    func = request.environ.get('werkzeug.server.shutdown')\n",
    "    if func is None:\n",
    "        raise RuntimeError('Not running with the Werkzeug Server')\n",
    "    func()\n",
    "    return \"Shutting down...\"\n",
    "\n",
    "if __name__ == '__main__':\n",
    "    ####################################################################################################\n",
    "    ########################################### CHATBOT LOAD ###########################################\n",
    "    ####################################################################################################\n",
    "    #import ire\n",
    "\n",
    "    linkedin = 'https://www.linkedin.com/in/rodcoelho/'\n",
    "    github = 'https://github.com/rodcoelho'\n",
    "    new = 2\n",
    "\n",
    "     \n",
    "    def clearmemory():\n",
    "        os.system('rm database.sqlite3')\n",
    "        os.system('clear')\n",
    "\n",
    "    ####################################################################################################\n",
    "    ########################################### CHATBOT LOAD ###########################################\n",
    "    ####################################################################################################\n",
    "\n",
    "    print('im restring')\n",
    "    app.secret_key = 'super secret key' \n",
    "    app.run()\n",
    "\n"
   ]
  },
  {
   "cell_type": "code",
   "execution_count": 6,
   "metadata": {},
   "outputs": [],
   "source": [
    "import sqlite3\n",
    "connection = sqlite3.connect('test.db')\n",
    "cursor = connection.cursor()\n",
    "\n",
    "# get all tweets with userID\n",
    "cursor.execute(\"\"\"SELECT * FROM tweets ;\"\"\".format())\n",
    "tweets = cursor.fetchall()"
   ]
  },
  {
   "cell_type": "code",
   "execution_count": 7,
   "metadata": {},
   "outputs": [
    {
     "name": "stdout",
     "output_type": "stream",
     "text": [
      "[(1, 1, 'hi', 'ROBO: hello'), (2, 1, 'eliza', 'development\\nthe classic historic early chatbots are eliza (1966) and parry (1972).'), (3, 1, 'anything else', 'while eliza and parry were used exclusively to simulate typed conversation, many chatbots now include functional features such as games and web searching abilities.'), (4, 1, 'good', 'ROBO: Thank you, say ok to continue'), (5, 1, 'hi', 'ROBO: hi there'), (6, 1, 'hi', 'hey'), (7, 1, 'bye', 'Bye! take care..'), (8, 1, 'hello', 'hi'), (9, 2, 'hi', 'I am glad! You are talking to me'), (10, 1, 'Radhu', 'Sorry, refine your question'), (11, 1, 'hi', 'hi there'), (12, 1, 'chatterbot', 'retrieved 2007-12-09. psychologist and scientific american: mind contributing editor robert epstein reports how he was initially fooled by a chatterbot posing as an attractive girl in a personal ad he answered on a dating website.'), (13, 1, 'more', 'a chatbot (also known as a smartbot, talkbot, chatterbot, bot, im bot, interactive agent, conversational interface, conversational ai, or artificial conversational entity) is a computer program or an artificial intelligence which conducts a conversation via auditory or textual methods.'), (14, 1, 'more', 'Sorry, refine your question'), (15, 1, 'hmm', 'Do you like my response ?'), (16, 1, 'yes', 'Please start a conversation about you want to know !!'), (17, 1, 'ok', 'Please start a conversation about you want to know !!'), (18, 1, 'i dont know', 'Sorry, refine your question'), (19, 1, 'know', 'Sorry, refine your question'), (20, 1, 'intelligebce', 'Sorry, refine your question'), (21, 1, 'hello', 'I am glad! You are talking to me'), (22, 1, 'Eliza', 'development\\nthe classic historic early chatbots are eliza (1966) and parry (1972).'), (23, 1, 'next', 'while eliza and parry were used exclusively to simulate typed conversation, many chatbots now include functional features such as games and web searching abilities.'), (24, 1, 'next', \"the notoriety of turing's proposed test stimulated great interest in joseph weizenbaum's program eliza, published in 1966, which seemed to be able to fool users into believing that they were conversing with a real human.\"), (25, 1, 'ok', 'Sorry, refine your question'), (26, 1, 'hi', 'I am glad! You are talking to me'), (27, 1, 'Radhu', 'Sorry, refine your question'), (28, 1, 'hi', 'hey'), (29, 1, 'eliza', 'development\\nthe classic historic early chatbots are eliza (1966) and parry (1972).'), (30, 1, 'more', 'while eliza and parry were used exclusively to simulate typed conversation, many chatbots now include functional features such as games and web searching abilities.'), (31, 1, 'hmm', 'Do you like my response ?'), (32, 1, 'yes', \"the notoriety of turing's proposed test stimulated great interest in joseph weizenbaum's program eliza, published in 1966, which seemed to be able to fool users into believing that they were conversing with a real human.\"), (33, 1, 'good', 'Thank you, say ok to continue'), (34, 1, 'hi', 'hello'), (35, 1, 'chatterbot', 'retrieved 2007-12-09. psychologist and scientific american: mind contributing editor robert epstein reports how he was initially fooled by a chatterbot posing as an attractive girl in a personal ad he answered on a dating website.'), (36, 1, 'hmm', 'Do you like my response ?'), (37, 1, 'yes', 'a chatbot (also known as a smartbot, talkbot, chatterbot, bot, im bot, interactive agent, conversational interface, conversational ai, or artificial conversational entity) is a computer program or an artificial intelligence which conducts a conversation via auditory or textual methods.'), (38, 1, 'ok', 'Sorry, refine your question'), (39, 1, 'ok', 'Sorry, refine your question'), (40, 1, 'more', 'Please start a conversation about you want to know !!'), (41, 1, 'Hi', 'hi'), (42, 1, 'Hi', 'hello'), (43, 1, 'Eliza', 'development\\nthe classic historic early chatbots are eliza (1966) and parry (1972).'), (44, 1, 'more', 'while eliza and parry were used exclusively to simulate typed conversation, many chatbots now include functional features such as games and web searching abilities.'), (45, 1, 'hi', 'hello'), (46, 1, 'eliza', \"the notoriety of turing's proposed test stimulated great interest in joseph weizenbaum's program eliza, published in 1966, which seemed to be able to fool users into believing that they were conversing with a real human.\"), (47, 1, 'more', 'Sorry, refine your question'), (48, 1, 'more', 'chatbots: building intelligent, cross-platform, messaging bots.'), (49, 1, 'ok', 'designing bots: creating conversational experiences (first ed.).'), (50, 1, 'more', 'Sorry, refine your question'), (51, 1, 'ok', 'Please start a conversation about you want to know !!'), (52, 1, 'bye', 'Bye! take care..'), (53, 1, 'Hi', 'hi there'), (54, 1, 'bot', 'chatbots: building intelligent, cross-platform, messaging bots.'), (55, 1, 'ok', 'designing bots: creating conversational experiences (first ed.).'), (56, 1, 'anything else', 'Sorry, refine your question'), (57, 1, 'ok', 'Please start a conversation about you want to know !!'), (58, 1, 'intelligence', 'bi intelligence.'), (59, 1, 'next', 'advances in computational intelligence systems (1st ed.).'), (60, 1, 'next', '[43][44][45] these cloud platforms provide natural language processing, artificial intelligence and mobile backend as a service for chatbot development.'), (61, 1, 'service', 'they are used for b2c customer service, sales and marketing.'), (62, 1, 'platform', 'chatbot development platforms\\nthe process of building, testing and deploying chatbots can be done on cloud-based chatbot development platforms[42] offered by cloud platform as a service (paas) providers such as oracle cloud platform and ibm watson.'), (63, 1, 'bots are used in cloud ?', 'chatbot development platforms\\nthe process of building, testing and deploying chatbots can be done on cloud-based chatbot development platforms[42] offered by cloud platform as a service (paas) providers such as oracle cloud platform and ibm watson.'), (64, 1, 'cloud', 'chatbot development platforms\\nthe process of building, testing and deploying chatbots can be done on cloud-based chatbot development platforms[42] offered by cloud platform as a service (paas) providers such as oracle cloud platform and ibm watson.'), (65, 1, 'next', '[43][44][45] these cloud platforms provide natural language processing, artificial intelligence and mobile backend as a service for chatbot development.'), (66, 1, 'next', 'Sorry, refine your question'), (67, 1, 'can bot process natural language ?', 'these intelligent chatbots make use of all kinds of artificial intelligence like image moderation and natural language understanding (nlu), natural language generation (nlg), machine learning and deep learning.'), (68, 1, 'ok', '[14]\\n\\none pertinent field of ai research is natural language processing.'), (69, 1, 'wow', 'Sorry, refine your question'), (70, 1, 'woow', 'Thank you, say ok to continue'), (71, 1, 'ok', '[43][44][45] these cloud platforms provide natural language processing, artificial intelligence and mobile backend as a service for chatbot development.'), (72, 1, 'next', 'some chatbots use sophisticated natural language processing systems, but many simpler ones scan for keywords within the input, then pull a reply with the most matching keywords, or the most similar wording pattern, from a database.'), (73, 1, 'next', 'Sorry, refine your question'), (74, 1, 'bye', 'Bye! take care..'), (75, 1, 'hello', 'hi'), (76, 1, 'Hello', 'hey'), (77, 1, 'cloud', 'chatbot development platforms\\nthe process of building, testing and deploying chatbots can be done on cloud-based chatbot development platforms[42] offered by cloud platform as a service (paas) providers such as oracle cloud platform and ibm watson.'), (78, 1, 'next', '[43][44][45] these cloud platforms provide natural language processing, artificial intelligence and mobile backend as a service for chatbot development.'), (79, 1, 'next', 'Sorry, refine your question'), (80, 1, 'hello', 'hi'), (81, 1, 'hello', 'hello'), (82, 1, 'hello', 'hello'), (83, 'Indu', 'where all the bots used', 'botresponse \"2017 messenger bot landscape, a public spreadsheet gathering 1000+ messenger bots\".'), (84, 'Indu', 'where all the bots used', 'botresponse \"2017 messenger bot landscape, a public spreadsheet gathering 1000+ messenger bots\".'), (85, 1, 'hello', 'hi'), (86, 1, 'bye', 'Bye! take care..'), (87, 1, 'hi', '*nods*')]\n"
     ]
    }
   ],
   "source": [
    "print(tweets)"
   ]
  },
  {
   "cell_type": "code",
   "execution_count": null,
   "metadata": {},
   "outputs": [],
   "source": [
    "import ire\n",
    "ire.get_response('bot')\n"
   ]
  },
  {
   "cell_type": "code",
   "execution_count": 4,
   "metadata": {},
   "outputs": [],
   "source": [
    "botresponse='botresponse \"2017 messenger bot landscape, a public spreadsheet gathering 1000+ messenger bots\".'\n",
    "userId='Indu'\n",
    "words='where all the bots used'"
   ]
  },
  {
   "cell_type": "code",
   "execution_count": 5,
   "metadata": {},
   "outputs": [
    {
     "data": {
      "text/plain": [
       "'botresponse \"2017 messenger bot landscape, a public spreadsheet gathering 1000+ messenger bots\".'"
      ]
     },
     "execution_count": 5,
     "metadata": {},
     "output_type": "execute_result"
    }
   ],
   "source": [
    "botresponse"
   ]
  },
  {
   "cell_type": "code",
   "execution_count": null,
   "metadata": {},
   "outputs": [],
   "source": [
    "connection = sqlite3.connect('test.db')\n",
    "cursor = connection.cursor()\n",
    "print('botresponse', botresponse)\n",
    "cursor.execute(\"INSERT INTO tweets(userID,tweet,response) VALUES (?,?,? )\", (userId, words, botresponse))\n",
    "               #.format(str(userId), str(words), str(botresponse)))\n",
    "connection.commit()"
   ]
  },
  {
   "cell_type": "code",
   "execution_count": null,
   "metadata": {},
   "outputs": [],
   "source": []
  }
 ],
 "metadata": {
  "kernelspec": {
   "display_name": "Python 3",
   "language": "python",
   "name": "python3"
  },
  "language_info": {
   "codemirror_mode": {
    "name": "ipython",
    "version": 3
   },
   "file_extension": ".py",
   "mimetype": "text/x-python",
   "name": "python",
   "nbconvert_exporter": "python",
   "pygments_lexer": "ipython3",
   "version": "3.6.8"
  }
 },
 "nbformat": 4,
 "nbformat_minor": 2
}
