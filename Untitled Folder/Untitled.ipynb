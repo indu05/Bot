{
 "cells": [
  {
   "cell_type": "code",
   "execution_count": 1,
   "metadata": {},
   "outputs": [],
   "source": [
    "import nltk\n",
    "import numpy as np\n",
    "import random\n",
    "import string "
   ]
  },
  {
   "cell_type": "code",
   "execution_count": 2,
   "metadata": {},
   "outputs": [],
   "source": [
    "f=open('chatbot.txt')\n",
    "raw=f.read()\n",
    "raw=raw.lower()# converts to lowercase \n",
    "sent_tokens = nltk.sent_tokenize(raw)# converts to list of sentences \n",
    "word_tokens = nltk.word_tokenize(raw)# converts to list of words\n"
   ]
  },
  {
   "cell_type": "code",
   "execution_count": 21,
   "metadata": {},
   "outputs": [
    {
     "name": "stdout",
     "output_type": "stream",
     "text": [
      "[' c:\\\\users\\\\hp pc\\\\appdata\\\\roaming\\\\microsoft\\\\windows\\\\start menu\\\\programs\\\\python 3.7for other uses, see chatbot (disambiguation).', 'a chatbot (also known as a smartbot, talkbot, chatterbot, bot, im bot, interactive agent, conversational interface, conversational ai, or artificial conversational entity) is a computer program or an artificial intelligence which conducts a conversation via auditory or textual methods.', '[1] such programs are often designed to convincingly simulate how a human would behave as a conversational partner, thereby passing the turing test.', 'chatbots are typically used in dialog systems for various practical purposes including customer service or information acquisition.', 'some chatbots use sophisticated natural language processing systems, but many simpler ones scan for keywords within the input, then pull a reply with the most matching keywords, or the most similar wording pattern, from a database.', 'the term \"chatterbot\" was originally coined by michael mauldin (creator of the first verbot, julia) in 1994 to describe these conversational programs.', \"[2] today, most chatbots are accessed via virtual assistants such as google assistant and amazon alexa, via messaging apps such as facebook messenger or wechat, or via individual organizations' apps and websites.\", '[3][4] chatbots can be classified into usage categories such as conversational commerce (e-commerce via chat), analytics, communication, customer support, design, developer tools, education, entertainment, finance, food, games, health, hr, marketing, news, personal, productivity, shopping, social, sports, travel and utilities.', '[5]\\n\\nbeyond chatbots, conversational ai refers to the use of messaging apps, speech-based assistants and chatbots to automate communication and create personalized customer experiences at scale.', '[6]\\n\\n\\ncontents\\n1\\tbackground\\n2\\tdevelopment\\n3\\tapplication\\n3.1\\tmessaging apps\\n3.1.1\\tas part of company apps and websites\\n3.2\\tcompany internal platforms\\n3.3\\ttoys\\n3.4\\tchatbots in medicine and for mental health\\n4\\tchatbot development platforms\\n5\\tmalicious use\\n6\\tsee also\\n7\\tcitations\\n8\\treferences\\nbackground\\nin 1950, alan turing\\'s famous article \"computing machinery and intelligence\" was published,[7] which proposed what is now called the turing test as a criterion of intelligence.', 'this criterion depends on the ability of a computer program to impersonate a human in a real-time written conversation with a human judge, sufficiently well that the judge is unable to distinguish reliablyâ€”on the basis of the conversational content aloneâ€”between the program and a real human.', \"the notoriety of turing's proposed test stimulated great interest in joseph weizenbaum's program eliza, published in 1966, which seemed to be able to fool users into believing that they were conversing with a real human.\", 'however weizenbaum himself did not claim that eliza was genuinely intelligent, and the introduction to his paper presented it more as a debunking exercise:\\n\\n[in] artificial intelligence ... machines are made to behave in wondrous ways, often sufficient to dazzle even the most experienced observer.', 'but once a particular program is unmasked, once its inner workings are explained ... its magic crumbles away; it stands revealed as a mere collection of procedures ... the observer says to himself \"i could have written that\".', 'with that thought he moves the program in question from the shelf marked \"intelligent\", to that reserved for curios ... the object of this paper is to cause just such a re-evaluation of the program about to be \"explained\".', 'few programs ever needed it more.', \"[8]\\n\\neliza's key method of operation (copied by chatbot designers ever since) involves the recognition of cue words or phrases in the input, and the output of corresponding pre-prepared or pre-programmed responses that can move the conversation forward in an apparently meaningful way (e.g.\", \"by responding to any input that contains the word 'mother' with 'tell me more about your family').\", '[9] thus an illusion of understanding is generated, even though the processing involved has been merely superficial.', 'eliza showed that such an illusion is surprisingly easy to generate, because human judges are so ready to give the benefit of the doubt when conversational responses are capable of being interpreted as \"intelligent\".', \"interface designers have come to appreciate that humans' readiness to interpret computer output as genuinely conversationalâ€”even when it is actually based on rather simple pattern-matchingâ€”can be exploited for useful purposes.\", 'most people prefer to engage with programs that are human-like, and this gives chatbot-style techniques a potentially useful role in interactive systems that need to elicit information from users, as long as that information is relatively straightforward and falls into predictable categories.', 'thus, for example, online help systems can usefully employ chatbot techniques to identify the area of help that users require, potentially providing a \"friendlier\" interface than a more formal search or menu system.', 'this sort of usage holds the prospect of moving chatbot technology from weizenbaum\\'s \"shelf ... reserved for curios\" to that marked \"genuinely useful computational methods\".', 'development\\nthe classic historic early chatbots are eliza (1966) and parry (1972).', '[10][11][12][13] more recent notable programs include a.l.i.c.e., jabberwacky and d.u.d.e (agence nationale de la recherche and cnrs 2006).', 'while eliza and parry were used exclusively to simulate typed conversation, many chatbots now include functional features such as games and web searching abilities.', \"in 1984, a book called the policeman's beard is half constructed was published, allegedly written by the chatbot racter (though the program as released would not have been capable of doing so).\", '[14]\\n\\none pertinent field of ai research is natural language processing.', 'usually, weak ai fields employ specialized software or programming languages created specifically for the narrow function required.', 'for example, a.l.i.c.e.', 'uses a markup language called aiml, which is specific to its function as a conversational agent, and has since been adopted by various other developers of, so called, alicebots.', 'nevertheless, a.l.i.c.e.', 'is still purely based on pattern matching techniques without any reasoning capabilities, the same technique eliza was using back in 1966. this is not strong ai, which would require sapience and logical reasoning abilities.', 'jabberwacky learns new responses and context based on real-time user interactions, rather than being driven from a static database.', 'some more recent chatbots also combine real-time learning with evolutionary algorithms that optimise their ability to communicate based on each conversation held.', 'still, there is currently no general purpose conversational artificial intelligence, and some software developers focus on the practical aspect, information retrieval.', 'chatbot competitions focus on the turing test or more specific goals.', 'two such annual contests are the loebner prize and the chatterbox challenge (the latter has been offline since 2015, however materials can still be found from web archives).', \"[15]\\n\\napplication\\nsee also: virtual assistant\\n\\naeromexico airline chatbot running on facebook messenger, march 2018\\nmessaging apps\\nmany companies' chatbots run on messaging apps or simply via sms.\", 'they are used for b2c customer service, sales and marketing.', '[16]\\n\\nin 2016, facebook messenger allowed developers to place chatbots on their platform.', 'there were 30,000 bots created for messenger in the first six months, rising to 100,000 by september 2017.', '[17]\\n\\nsince september 2017, this has also been as part of a pilot program on whatsapp.', 'airlines klm and aeromã©xico both announced their participation in the testing;[18][19][20][21] both airlines had previously launched customer services on the facebook messenger platform.', \"the bots usually appear as one of the user's contacts, but can sometimes act as participants in a group chat.\", 'many banks, insurers, media companies, e-commerce companies, airlines, hotel chains, retailers, health care providers, government entities and restaurant chains have used chatbots to answer simple questions, increase customer engagement,[22] for promotion, and to offer additional ways to order from them.', '[23][24]\\n\\na 2017 study showed 4% of companies used chatbots.', '[25] according to a 2016 study, 80% of businesses said they intended to have one by 2020.', '[26]\\n\\nas part of company apps and websites\\nprevious generations of chatbots were present on company websites, e.g.', \"ask jenn from alaska airlines which debuted in 2008[27] or expedia's virtual customer service agent which launched in 2011.\", '[27][28] the newer generation of chatbots includes ibm watson-powered \"rocky\", introduced in february 2017 by the new york city-based e-commerce company rare carat to provide information to prospective diamond buyers.', '[29][30]\\n\\ncompany internal platforms\\nother companies explore ways they can use chatbots internally, for example for customer support, human resources, or even in internet-of-things (iot) projects.', 'overstock.com, for one, has reportedly launched a chatbot named mila to automate certain simple yet time-consuming processes when requesting for a sick leave.', '[31] other large companies such as lloyds banking group, royal bank of scotland, renault and citroã«n are now using automated online assistants instead of call centres with humans to provide a first point of contact.', \"a saas chatbot business ecosystem has been steadily growing since the f8 conference when facebook's mark zuckerberg unveiled that messenger would allow chatbots into the app.\", '[32] in large companies, like in hospitals and aviation organizations, it architects are designing reference architectures for intelligent chatbots that are used to unlock and share knowledge and experience in the organization more efficiently, and reduce the errors in answers from expert service desks significantly.[33].', 'these intelligent chatbots make use of all kinds of artificial intelligence like image moderation and natural language understanding (nlu), natural language generation (nlg), machine learning and deep learning.', 'toys\\nchatbots have also been incorporated into devices not primarily meant for computing such as toys.', '[34]\\n\\nhello barbie is an internet-connected version of the doll that uses a chatbot provided by the company toytalk,[35] which previously used the chatbot for a range of smartphone-based characters for children.', \"[36] these characters' behaviors are constrained by a set of rules that in effect emulate a particular character and produce a storyline.\", \"[37]\\n\\nibm's watson computer has been used as the basis for chatbot-based educational toys for companies such as cognitoys[34] intended to interact with children for educational purposes.\", '[38]\\n\\nchatbots in medicine and for mental health\\naccording to the journal of medical internet research, \"chatbots are [...] increasingly used in particular for mental health applications, prevention and behavior change applications (such as smoking cessation or physical activity interventions).\"', '[39].', 'they have been shown to serve as a cost-effective and accessible therapeutic agents for indications such as depression and anxiety [40].', 'a conversational agent called woebot has been shown to significantly reduce depression in young adults [41].', 'chatbot development platforms\\nthe process of building, testing and deploying chatbots can be done on cloud-based chatbot development platforms[42] offered by cloud platform as a service (paas) providers such as oracle cloud platform and ibm watson.', '[43][44][45] these cloud platforms provide natural language processing, artificial intelligence and mobile backend as a service for chatbot development.', 'malicious use\\nmalicious chatbots are frequently used to fill chat rooms with spam and advertisements, by mimicking human behavior and conversations or to entice people into revealing personal information, such as bank account numbers.', 'they are commonly found on yahoo!', 'messenger, windows live messenger, aol instant messenger and other instant messaging protocols.', \"there has also been a published report of a chatbot used in a fake personal ad on a dating service's website.\", '[46]\\n\\ntay, an ai chatbot that learns from previous interaction, caused major controversy due to it being targeted by internet trolls on twitter.', 'the bot was exploited, and after 16 hours began to send extremely offensive tweets to users.', 'this suggests that although the bot learnt effectively from experience, adequate protection was not put in place to prevent misuse.', '[47]\\n\\nsee also\\napplications of artificial intelligence\\neugene goostman\\ninteractive online characters\\nlist of chatterbots\\nsocial bot\\ntwitterbot\\ncitations\\n \"what is a chatbot?\".', 'techtarget.com.', 'retrieved 30 january 2017.\\n mauldin 1994\\n orf, darren.', '\"google assistant is a mega ai bot that wants to be absoutely everywhere\".', '\"the 8 best chatbots of 2016\".', '21 december 2016.', '\"2017 messenger bot landscape, a public spreadsheet gathering 1000+ messenger bots\".', '3 may 2017.\\n https://georgianpartners.com/investment-thesis-areas/overview-conversational-ai/\\n (turing 1950)\\n (weizenbaum 1966, p. 36)\\n (weizenbaum 1966, pp.', '44â€“5)\\n gã¼zelderefranchi 1995\\n computer history museum 2006\\n sondheim 1997\\n network working group 1973â€”transcript of a session between parry and eliza.', '(this is not the dialogue from the iccc, which took place october 24â€“26, 1972, whereas this session is from september 18, 1972.)', 'www.everything.com 13 november 1999\\n (in german) chatroboter simulieren menschen\\n beaver, laurie (july 2016).', 'the chatbots explainer.', 'bi intelligence.', '\"facebook messenger hits 100,000 bots\".', '2017-04-18. retrieved 2017-09-22.', '\"klm claims airline first with whatsapp business platform\".', 'staff, forbes (26 october 2017).', '\"aeromã©xico te atenderã¡ por whatsapp durante 2018\".', 'retrieved 2 july 2018.\\n redacciã³n (27 october 2017).', '\"podrã¡s hacer \\'check in\\' y consultar tu vuelo con aeromã©xico a travã©s de whatsapp\".', 'huffington post.', 'retrieved 2 july 2018 â€“ via huff post.', '\"building for people, and now businesses\".', 'whatsapp.com.', 'retrieved 2 july 2018.', '\"she is the company\\'s most effective employee\".', 'nordea news.', '\"better believe the bot boom is blowing up big for b2b, b2c businesses\".', 'venturebeat.', '2016-07-24.', '\"chatbots take education to the next level â€“ chatbot news daily\".', 'chatbot news daily.', '2016-09-29. retrieved 2017-06-23.', '\"the ai revolution is underway!', 'â€“ pm360\".', 'www.pm360online.com.', 'retrieved 2 july 2018.', '\"80% of businesses want chatbots by 2020\".', 'retrieved 2 july 2018.', '\"a virtual travel agent with all the answers\".', 'the new york times.', '4 march 2008.', '\"chatbot vendor directory released â€“\".', 'www.hypergridbusiness.com.', '\"rare carat\\'s watson-powered chatbot will help you put a diamond ring on it\".', 'techcrunch.', 'february 15, 2017.', '\"10 ways you may have already used ibm watson\".', 'venturebeat.', 'march 10, 2017.\\n greenfield, rebecca.', '\"chatbots are your newest, dumbest co-workers\".', 'bloomberg.', '\"facebook opens its messenger platform to chatbots\".', '12 april 2016.', '\"chatbot reference architecture\".', '1 january 2019.\\n amy (2015-02-23).', '\"conversational toys â€“ the latest trend in speech technology\".', 'virtual agent chat.', 'retrieved 2016-08-11.\\n nagy, evie.', '\"using toytalk technology, new hello barbie will have real conversations with kids\".', 'fast company.', 'retrieved 18 march 2015.\\n oren jacob, the co-founder and ceo of toytalk interviewed on the tv show triangulation on the twit.tv network\\n \"artificial intelligence script tool\".', 'takahashi, dean.', '\"elemental\\'s smart connected toy taps ibm\\'s watson supercomputer for its brains\".', 'venture beat.', 'retrieved 15 may 2015.', '\"jmir e-collection \"chatbots and conversational agents in health and medicine\"\".', 'journal of medical internet research.', 'jmir publications.', 'fulmer, r; joerin, a; gentile, b; lakerink, l; rauws, m (13 december 2018).', '\"using psychological artificial intelligence (tess) to relieve symptoms of depression and anxiety: randomized controlled trial\".', 'jmir mental health.', '5 (4): e64.', 'doi:10.2196/mental.9782.', 'pmc 6315222. pmid 30545815.\\n fitzpatrick, kk; darcy, a; vierhile, m (6 june 2017).', '\"delivering cognitive behavior therapy to young adults with symptoms of depression and anxiety using a fully automated conversational agent (woebot): a randomized controlled trial\".', 'jmir mental health.', '4 (2): e19.', 'doi:10.2196/mental.7785.', 'pmc 5478797. pmid 28588005.\\n yuan, michael (2018-02-19).', 'chatbots: building intelligent, cross-platform, messaging bots.', 'pearson education.', 'isbn 9780134650616.', '\"oracle launches a chatbot development platform | venturebeat\".', 'venturebeat.com.', 'retrieved 2017-11-15.', '\"oracle introduces ai-powered intelligent bots to help enterprises engage customers and employees\".', 'www.oracle.com.', 'retrieved 2017-11-15.', '\"mobile service | oracle cloud\".', 'cloud.oracle.com.', 'retrieved 2017-11-15.', '\"from russia with love\" (pdf).', 'retrieved 2007-12-09. psychologist and scientific american: mind contributing editor robert epstein reports how he was initially fooled by a chatterbot posing as an attractive girl in a personal ad he answered on a dating website.', 'in the ad, the girl portrayed herself as being in southern california and then soon revealed, in poor english, that she was actually in russia.', 'he became suspicious after a couple of months of email exchanges, sent her an email test of gibberish, and she still replied in general terms.', 'the dating website is not named.', 'scientific american: mind, octoberâ€“november 2007, page 16â€“17, \"from russia with love: how i got fooled (and somewhat humiliated) by a computer\".', 'also available online.', 'bird, jordan j.; ekart, aniko; faria, diego r. (june 2018).', 'advances in computational intelligence systems (1st ed.).', 'nottingham, uk: springer.', 'pp.', '179â€“190.', 'isbn 978-3-319-97982-3. retrieved 3 december 2018.\\nreferences\\ncomputer history museum (2006), \"internet historyâ€”1970\\'s\", exhibits, computer history museum, archived from the original on 2008-02-21, retrieved 2008-03-05\\ngã¼zeldere, gã¼ven; franchi, stefano (1995-07-24), \"constructions of the mind\", stanford humanities review, sehr, stanford university, 4 (2), retrieved 2008-03-05\\nmauldin, michael (1994), \"chatterbots, tinymuds, and the turing test: entering the loebner prize competition\", proceedings of the eleventh national conference on artificial intelligence, aaai press, retrieved 2008-03-05 (abstract)\\nnetwork working group (1973), \"rfc 439, parry encounters the doctor\", internet engineering task force, internet society, retrieved 2008-03-05\\nsondheim, alan j (1997), <nettime> important documents from the early internet (1972), nettime.org, archived from the original on 2008-06-13, retrieved 2008-03-05\\nsearle, john (1980), \"minds, brains and programs\", behavioral and brain sciences, 3 (3): 417â€“457, doi:10.1017/s0140525x00005756\\nshevat, amir (2017).', 'designing bots: creating conversational experiences (first ed.).', \"sebastopol, ca: o'reilly media.\", 'isbn 9781491974827. oclc 962125282.\\nturing, alan (1950), \"computing machinery and intelligence\", mind, 59 (236): 433â€“60, doi:10.1093/mind/lix.236.433\\nweizenbaum, joseph (january 1966), \"elizaâ€”a computer program for the study of natural language communication between man and machine\", communications of the acm, 9 (1): 36â€“45, doi:10.1145/365153.365168', ['programs are primarily'], 'programs are primarily', 'programs are primarily']\n"
     ]
    }
   ],
   "source": [
    "print(sent_tokens)"
   ]
  },
  {
   "cell_type": "code",
   "execution_count": 23,
   "metadata": {},
   "outputs": [],
   "source": [
    "lemmer = nltk.stem.WordNetLemmatizer()\n",
    "def LemTokens(tokens):\n",
    "    return [lemmer.lemmatize(token) for token in tokens]\n",
    "remove_punct_dict = dict((ord(punct), None) for punct in string.punctuation)\n",
    "def LemNormalize(text):\n",
    "    return LemTokens(nltk.word_tokenize(text.lower().translate(remove_punct_dict)))"
   ]
  },
  {
   "cell_type": "code",
   "execution_count": 24,
   "metadata": {},
   "outputs": [],
   "source": [
    "GREETING_INPUTS = (\"hello\", \"hi\", \"greetings\", \"sup\", \"what's up\",\"hey\",)\n",
    "GREETING_RESPONSES = [\"hi\", \"hey\", \"*nods*\", \"hi there\", \"hello\", \"I am glad! You are talking to me\"]\n",
    "def greeting(sentence):\n",
    " \n",
    "    for word in sentence.split():\n",
    "        if word.lower() in GREETING_INPUTS:\n",
    "            return random.choice(GREETING_RESPONSES)"
   ]
  },
  {
   "cell_type": "code",
   "execution_count": 25,
   "metadata": {},
   "outputs": [],
   "source": [
    "from sklearn.feature_extraction.text import TfidfVectorizer"
   ]
  },
  {
   "cell_type": "code",
   "execution_count": 26,
   "metadata": {},
   "outputs": [],
   "source": [
    "from sklearn.metrics.pairwise import cosine_similarity"
   ]
  },
  {
   "cell_type": "code",
   "execution_count": 27,
   "metadata": {},
   "outputs": [],
   "source": [
    "def response(user_response):\n",
    "    robo_response=''\n",
    "    #sent_tokens.append(user_response)\n",
    "    TfidfVec = TfidfVectorizer(tokenizer=LemNormalize, stop_words='english')\n",
    "    tfidf = TfidfVec.fit_transform(sent_tokens)\n",
    "    x_train=tfidf.toarray\n",
    "    \n",
    "    testVect = TfidfVectorizer(tokenizer=LemNormalize, stop_words='english')\n",
    "    testTfidf = TfidfVec.fit_transform(user_response)\n",
    "    x_test=testTfidf.toarray\n",
    "    vals = cosine_similarity(x_train, x_test)\n",
    "    \n",
    "    vals = cosine_similarity(tfidf[-1], tfidf)\n",
    "    idx=vals.argsort()[0][-2]\n",
    "    flat = vals.flatten()\n",
    "    flat.sort()\n",
    "    req_tfidf = flat[-2]\n",
    "    if(req_tfidf==0):\n",
    "        robo_response=robo_response+\"I am sorry! I don't understand you\"\n",
    "        return robo_response\n",
    "    else:\n",
    "        robo_response = robo_response+sent_tokens[idx]\n",
    "        return robo_response"
   ]
  },
  {
   "cell_type": "code",
   "execution_count": 28,
   "metadata": {},
   "outputs": [],
   "source": [
    "def response(user_response):\n",
    "    robo_response=''\n",
    "    #sent_tokens.append(user_response)\n",
    "    TfidfVec = TfidfVectorizer(tokenizer=LemNormalize, stop_words='english')\n",
    "    tfidf = TfidfVec.fit_transform(sent_tokens)\n",
    "    x_train=tfidf.toarray\n",
    "    print(x_train)\n",
    "    \n",
    "    user_sent_tokens = nltk.sent_tokenize(user_response)\n",
    "    testVect = TfidfVectorizer(tokenizer=LemNormalize, stop_words='english')\n",
    "    testTfidf = testVect.fit_transform(user_sent_tokens)\n",
    "    x_test=testTfidf.toarray\n",
    "    print(x_test)\n",
    "    vals = cosine_similarity(x_train, x_test)\n",
    "    print(vals)\n",
    "    \n",
    "    idx=vals.argsort()[0][-2]\n",
    "    flat = vals.flatten()\n",
    "    flat.sort()\n",
    "    req_tfidf = flat[-2]\n",
    "    if(req_tfidf==0):\n",
    "        robo_response=robo_response+\"I am sorry! I don't understand you\"\n",
    "        return robo_response\n",
    "    else:\n",
    "        robo_response = robo_response+sent_tokens[idx]\n",
    "        return robo_response"
   ]
  },
  {
   "cell_type": "code",
   "execution_count": 29,
   "metadata": {},
   "outputs": [
    {
     "name": "stdout",
     "output_type": "stream",
     "text": [
      "ROBO: My name is Robo. I will answer your queries about Chatbots. If you want to exit, type Bye!\n",
      "bye\n",
      "ROBO: Bye! take care..\n"
     ]
    }
   ],
   "source": [
    "flag=True\n",
    "print(\"ROBO: My name is Robo. I will answer your queries about Chatbots. If you want to exit, type Bye!\")\n",
    "while(flag==True): \n",
    "    user_response = input()\n",
    "    user_response=user_response.lower()\n",
    "    if(user_response!='bye'):\n",
    "        if(user_response=='thanks' or user_response=='thank you' ):\n",
    "            flag=False\n",
    "            print(\"ROBO: You are welcome..\")\n",
    "        else:\n",
    "            if(greeting(user_response)!=None):\n",
    "                print(\"ROBO: \"+greeting(user_response))\n",
    "            else:\n",
    "                print(\"ROBO: \")\n",
    "                print(response(user_response))\n",
    "                sent_tokens.remove(user_response)\n",
    "    else:\n",
    "        flag=False\n",
    "        print(\"ROBO: Bye! take care..\")"
   ]
  },
  {
   "cell_type": "code",
   "execution_count": 33,
   "metadata": {},
   "outputs": [
    {
     "data": {
      "text/plain": [
       "[' c:\\\\users\\\\hp pc\\\\appdata\\\\roaming\\\\microsoft\\\\windows\\\\start menu\\\\programs\\\\python 3.7for other uses, see chatbot (disambiguation).',\n",
       " 'a chatbot (also known as a smartbot, talkbot, chatterbot, bot, im bot, interactive agent, conversational interface, conversational ai, or artificial conversational entity) is a computer program or an artificial intelligence which conducts a conversation via auditory or textual methods.',\n",
       " '[1] such programs are often designed to convincingly simulate how a human would behave as a conversational partner, thereby passing the turing test.',\n",
       " 'chatbots are typically used in dialog systems for various practical purposes including customer service or information acquisition.',\n",
       " 'some chatbots use sophisticated natural language processing systems, but many simpler ones scan for keywords within the input, then pull a reply with the most matching keywords, or the most similar wording pattern, from a database.',\n",
       " 'the term \"chatterbot\" was originally coined by michael mauldin (creator of the first verbot, julia) in 1994 to describe these conversational programs.',\n",
       " \"[2] today, most chatbots are accessed via virtual assistants such as google assistant and amazon alexa, via messaging apps such as facebook messenger or wechat, or via individual organizations' apps and websites.\",\n",
       " '[3][4] chatbots can be classified into usage categories such as conversational commerce (e-commerce via chat), analytics, communication, customer support, design, developer tools, education, entertainment, finance, food, games, health, hr, marketing, news, personal, productivity, shopping, social, sports, travel and utilities.',\n",
       " '[5]\\n\\nbeyond chatbots, conversational ai refers to the use of messaging apps, speech-based assistants and chatbots to automate communication and create personalized customer experiences at scale.',\n",
       " '[6]\\n\\n\\ncontents\\n1\\tbackground\\n2\\tdevelopment\\n3\\tapplication\\n3.1\\tmessaging apps\\n3.1.1\\tas part of company apps and websites\\n3.2\\tcompany internal platforms\\n3.3\\ttoys\\n3.4\\tchatbots in medicine and for mental health\\n4\\tchatbot development platforms\\n5\\tmalicious use\\n6\\tsee also\\n7\\tcitations\\n8\\treferences\\nbackground\\nin 1950, alan turing\\'s famous article \"computing machinery and intelligence\" was published,[7] which proposed what is now called the turing test as a criterion of intelligence.',\n",
       " 'this criterion depends on the ability of a computer program to impersonate a human in a real-time written conversation with a human judge, sufficiently well that the judge is unable to distinguish reliablyâ€”on the basis of the conversational content aloneâ€”between the program and a real human.',\n",
       " \"the notoriety of turing's proposed test stimulated great interest in joseph weizenbaum's program eliza, published in 1966, which seemed to be able to fool users into believing that they were conversing with a real human.\",\n",
       " 'however weizenbaum himself did not claim that eliza was genuinely intelligent, and the introduction to his paper presented it more as a debunking exercise:\\n\\n[in] artificial intelligence ... machines are made to behave in wondrous ways, often sufficient to dazzle even the most experienced observer.',\n",
       " 'but once a particular program is unmasked, once its inner workings are explained ... its magic crumbles away; it stands revealed as a mere collection of procedures ... the observer says to himself \"i could have written that\".',\n",
       " 'with that thought he moves the program in question from the shelf marked \"intelligent\", to that reserved for curios ... the object of this paper is to cause just such a re-evaluation of the program about to be \"explained\".',\n",
       " 'few programs ever needed it more.',\n",
       " \"[8]\\n\\neliza's key method of operation (copied by chatbot designers ever since) involves the recognition of cue words or phrases in the input, and the output of corresponding pre-prepared or pre-programmed responses that can move the conversation forward in an apparently meaningful way (e.g.\",\n",
       " \"by responding to any input that contains the word 'mother' with 'tell me more about your family').\",\n",
       " '[9] thus an illusion of understanding is generated, even though the processing involved has been merely superficial.',\n",
       " 'eliza showed that such an illusion is surprisingly easy to generate, because human judges are so ready to give the benefit of the doubt when conversational responses are capable of being interpreted as \"intelligent\".',\n",
       " \"interface designers have come to appreciate that humans' readiness to interpret computer output as genuinely conversationalâ€”even when it is actually based on rather simple pattern-matchingâ€”can be exploited for useful purposes.\",\n",
       " 'most people prefer to engage with programs that are human-like, and this gives chatbot-style techniques a potentially useful role in interactive systems that need to elicit information from users, as long as that information is relatively straightforward and falls into predictable categories.',\n",
       " 'thus, for example, online help systems can usefully employ chatbot techniques to identify the area of help that users require, potentially providing a \"friendlier\" interface than a more formal search or menu system.',\n",
       " 'this sort of usage holds the prospect of moving chatbot technology from weizenbaum\\'s \"shelf ... reserved for curios\" to that marked \"genuinely useful computational methods\".',\n",
       " 'development\\nthe classic historic early chatbots are eliza (1966) and parry (1972).',\n",
       " '[10][11][12][13] more recent notable programs include a.l.i.c.e., jabberwacky and d.u.d.e (agence nationale de la recherche and cnrs 2006).',\n",
       " 'while eliza and parry were used exclusively to simulate typed conversation, many chatbots now include functional features such as games and web searching abilities.',\n",
       " \"in 1984, a book called the policeman's beard is half constructed was published, allegedly written by the chatbot racter (though the program as released would not have been capable of doing so).\",\n",
       " '[14]\\n\\none pertinent field of ai research is natural language processing.',\n",
       " 'usually, weak ai fields employ specialized software or programming languages created specifically for the narrow function required.',\n",
       " 'for example, a.l.i.c.e.',\n",
       " 'uses a markup language called aiml, which is specific to its function as a conversational agent, and has since been adopted by various other developers of, so called, alicebots.',\n",
       " 'nevertheless, a.l.i.c.e.',\n",
       " 'is still purely based on pattern matching techniques without any reasoning capabilities, the same technique eliza was using back in 1966. this is not strong ai, which would require sapience and logical reasoning abilities.',\n",
       " 'jabberwacky learns new responses and context based on real-time user interactions, rather than being driven from a static database.',\n",
       " 'some more recent chatbots also combine real-time learning with evolutionary algorithms that optimise their ability to communicate based on each conversation held.',\n",
       " 'still, there is currently no general purpose conversational artificial intelligence, and some software developers focus on the practical aspect, information retrieval.',\n",
       " 'chatbot competitions focus on the turing test or more specific goals.',\n",
       " 'two such annual contests are the loebner prize and the chatterbox challenge (the latter has been offline since 2015, however materials can still be found from web archives).',\n",
       " \"[15]\\n\\napplication\\nsee also: virtual assistant\\n\\naeromexico airline chatbot running on facebook messenger, march 2018\\nmessaging apps\\nmany companies' chatbots run on messaging apps or simply via sms.\",\n",
       " 'they are used for b2c customer service, sales and marketing.',\n",
       " '[16]\\n\\nin 2016, facebook messenger allowed developers to place chatbots on their platform.',\n",
       " 'there were 30,000 bots created for messenger in the first six months, rising to 100,000 by september 2017.',\n",
       " '[17]\\n\\nsince september 2017, this has also been as part of a pilot program on whatsapp.',\n",
       " 'airlines klm and aeromã©xico both announced their participation in the testing;[18][19][20][21] both airlines had previously launched customer services on the facebook messenger platform.',\n",
       " \"the bots usually appear as one of the user's contacts, but can sometimes act as participants in a group chat.\",\n",
       " 'many banks, insurers, media companies, e-commerce companies, airlines, hotel chains, retailers, health care providers, government entities and restaurant chains have used chatbots to answer simple questions, increase customer engagement,[22] for promotion, and to offer additional ways to order from them.',\n",
       " '[23][24]\\n\\na 2017 study showed 4% of companies used chatbots.',\n",
       " '[25] according to a 2016 study, 80% of businesses said they intended to have one by 2020.',\n",
       " '[26]\\n\\nas part of company apps and websites\\nprevious generations of chatbots were present on company websites, e.g.',\n",
       " \"ask jenn from alaska airlines which debuted in 2008[27] or expedia's virtual customer service agent which launched in 2011.\",\n",
       " '[27][28] the newer generation of chatbots includes ibm watson-powered \"rocky\", introduced in february 2017 by the new york city-based e-commerce company rare carat to provide information to prospective diamond buyers.',\n",
       " '[29][30]\\n\\ncompany internal platforms\\nother companies explore ways they can use chatbots internally, for example for customer support, human resources, or even in internet-of-things (iot) projects.',\n",
       " 'overstock.com, for one, has reportedly launched a chatbot named mila to automate certain simple yet time-consuming processes when requesting for a sick leave.',\n",
       " '[31] other large companies such as lloyds banking group, royal bank of scotland, renault and citroã«n are now using automated online assistants instead of call centres with humans to provide a first point of contact.',\n",
       " \"a saas chatbot business ecosystem has been steadily growing since the f8 conference when facebook's mark zuckerberg unveiled that messenger would allow chatbots into the app.\",\n",
       " '[32] in large companies, like in hospitals and aviation organizations, it architects are designing reference architectures for intelligent chatbots that are used to unlock and share knowledge and experience in the organization more efficiently, and reduce the errors in answers from expert service desks significantly.[33].',\n",
       " 'these intelligent chatbots make use of all kinds of artificial intelligence like image moderation and natural language understanding (nlu), natural language generation (nlg), machine learning and deep learning.',\n",
       " 'toys\\nchatbots have also been incorporated into devices not primarily meant for computing such as toys.',\n",
       " '[34]\\n\\nhello barbie is an internet-connected version of the doll that uses a chatbot provided by the company toytalk,[35] which previously used the chatbot for a range of smartphone-based characters for children.',\n",
       " \"[36] these characters' behaviors are constrained by a set of rules that in effect emulate a particular character and produce a storyline.\",\n",
       " \"[37]\\n\\nibm's watson computer has been used as the basis for chatbot-based educational toys for companies such as cognitoys[34] intended to interact with children for educational purposes.\",\n",
       " '[38]\\n\\nchatbots in medicine and for mental health\\naccording to the journal of medical internet research, \"chatbots are [...] increasingly used in particular for mental health applications, prevention and behavior change applications (such as smoking cessation or physical activity interventions).\"',\n",
       " '[39].',\n",
       " 'they have been shown to serve as a cost-effective and accessible therapeutic agents for indications such as depression and anxiety [40].',\n",
       " 'a conversational agent called woebot has been shown to significantly reduce depression in young adults [41].',\n",
       " 'chatbot development platforms\\nthe process of building, testing and deploying chatbots can be done on cloud-based chatbot development platforms[42] offered by cloud platform as a service (paas) providers such as oracle cloud platform and ibm watson.',\n",
       " '[43][44][45] these cloud platforms provide natural language processing, artificial intelligence and mobile backend as a service for chatbot development.',\n",
       " 'malicious use\\nmalicious chatbots are frequently used to fill chat rooms with spam and advertisements, by mimicking human behavior and conversations or to entice people into revealing personal information, such as bank account numbers.',\n",
       " 'they are commonly found on yahoo!',\n",
       " 'messenger, windows live messenger, aol instant messenger and other instant messaging protocols.',\n",
       " \"there has also been a published report of a chatbot used in a fake personal ad on a dating service's website.\",\n",
       " '[46]\\n\\ntay, an ai chatbot that learns from previous interaction, caused major controversy due to it being targeted by internet trolls on twitter.',\n",
       " 'the bot was exploited, and after 16 hours began to send extremely offensive tweets to users.',\n",
       " 'this suggests that although the bot learnt effectively from experience, adequate protection was not put in place to prevent misuse.',\n",
       " '[47]\\n\\nsee also\\napplications of artificial intelligence\\neugene goostman\\ninteractive online characters\\nlist of chatterbots\\nsocial bot\\ntwitterbot\\ncitations\\n \"what is a chatbot?\".',\n",
       " 'techtarget.com.',\n",
       " 'retrieved 30 january 2017.\\n mauldin 1994\\n orf, darren.',\n",
       " '\"google assistant is a mega ai bot that wants to be absoutely everywhere\".',\n",
       " '\"the 8 best chatbots of 2016\".',\n",
       " '21 december 2016.',\n",
       " '\"2017 messenger bot landscape, a public spreadsheet gathering 1000+ messenger bots\".',\n",
       " '3 may 2017.\\n https://georgianpartners.com/investment-thesis-areas/overview-conversational-ai/\\n (turing 1950)\\n (weizenbaum 1966, p. 36)\\n (weizenbaum 1966, pp.',\n",
       " '44â€“5)\\n gã¼zelderefranchi 1995\\n computer history museum 2006\\n sondheim 1997\\n network working group 1973â€”transcript of a session between parry and eliza.',\n",
       " '(this is not the dialogue from the iccc, which took place october 24â€“26, 1972, whereas this session is from september 18, 1972.)',\n",
       " 'www.everything.com 13 november 1999\\n (in german) chatroboter simulieren menschen\\n beaver, laurie (july 2016).',\n",
       " 'the chatbots explainer.',\n",
       " 'bi intelligence.',\n",
       " '\"facebook messenger hits 100,000 bots\".',\n",
       " '2017-04-18. retrieved 2017-09-22.',\n",
       " '\"klm claims airline first with whatsapp business platform\".',\n",
       " 'staff, forbes (26 october 2017).',\n",
       " '\"aeromã©xico te atenderã¡ por whatsapp durante 2018\".',\n",
       " 'retrieved 2 july 2018.\\n redacciã³n (27 october 2017).',\n",
       " '\"podrã¡s hacer \\'check in\\' y consultar tu vuelo con aeromã©xico a travã©s de whatsapp\".',\n",
       " 'huffington post.',\n",
       " 'retrieved 2 july 2018 â€“ via huff post.',\n",
       " '\"building for people, and now businesses\".',\n",
       " 'whatsapp.com.',\n",
       " 'retrieved 2 july 2018.',\n",
       " '\"she is the company\\'s most effective employee\".',\n",
       " 'nordea news.',\n",
       " '\"better believe the bot boom is blowing up big for b2b, b2c businesses\".',\n",
       " 'venturebeat.',\n",
       " '2016-07-24.',\n",
       " '\"chatbots take education to the next level â€“ chatbot news daily\".',\n",
       " 'chatbot news daily.',\n",
       " '2016-09-29. retrieved 2017-06-23.',\n",
       " '\"the ai revolution is underway!',\n",
       " 'â€“ pm360\".',\n",
       " 'www.pm360online.com.',\n",
       " 'retrieved 2 july 2018.',\n",
       " '\"80% of businesses want chatbots by 2020\".',\n",
       " 'retrieved 2 july 2018.',\n",
       " '\"a virtual travel agent with all the answers\".',\n",
       " 'the new york times.',\n",
       " '4 march 2008.',\n",
       " '\"chatbot vendor directory released â€“\".',\n",
       " 'www.hypergridbusiness.com.',\n",
       " '\"rare carat\\'s watson-powered chatbot will help you put a diamond ring on it\".',\n",
       " 'techcrunch.',\n",
       " 'february 15, 2017.',\n",
       " '\"10 ways you may have already used ibm watson\".',\n",
       " 'venturebeat.',\n",
       " 'march 10, 2017.\\n greenfield, rebecca.',\n",
       " '\"chatbots are your newest, dumbest co-workers\".',\n",
       " 'bloomberg.',\n",
       " '\"facebook opens its messenger platform to chatbots\".',\n",
       " '12 april 2016.',\n",
       " '\"chatbot reference architecture\".',\n",
       " '1 january 2019.\\n amy (2015-02-23).',\n",
       " '\"conversational toys â€“ the latest trend in speech technology\".',\n",
       " 'virtual agent chat.',\n",
       " 'retrieved 2016-08-11.\\n nagy, evie.',\n",
       " '\"using toytalk technology, new hello barbie will have real conversations with kids\".',\n",
       " 'fast company.',\n",
       " 'retrieved 18 march 2015.\\n oren jacob, the co-founder and ceo of toytalk interviewed on the tv show triangulation on the twit.tv network\\n \"artificial intelligence script tool\".',\n",
       " 'takahashi, dean.',\n",
       " '\"elemental\\'s smart connected toy taps ibm\\'s watson supercomputer for its brains\".',\n",
       " 'venture beat.',\n",
       " 'retrieved 15 may 2015.',\n",
       " '\"jmir e-collection \"chatbots and conversational agents in health and medicine\"\".',\n",
       " 'journal of medical internet research.',\n",
       " 'jmir publications.',\n",
       " 'fulmer, r; joerin, a; gentile, b; lakerink, l; rauws, m (13 december 2018).',\n",
       " '\"using psychological artificial intelligence (tess) to relieve symptoms of depression and anxiety: randomized controlled trial\".',\n",
       " 'jmir mental health.',\n",
       " '5 (4): e64.',\n",
       " 'doi:10.2196/mental.9782.',\n",
       " 'pmc 6315222. pmid 30545815.\\n fitzpatrick, kk; darcy, a; vierhile, m (6 june 2017).',\n",
       " '\"delivering cognitive behavior therapy to young adults with symptoms of depression and anxiety using a fully automated conversational agent (woebot): a randomized controlled trial\".',\n",
       " 'jmir mental health.',\n",
       " '4 (2): e19.',\n",
       " 'doi:10.2196/mental.7785.',\n",
       " 'pmc 5478797. pmid 28588005.\\n yuan, michael (2018-02-19).',\n",
       " 'chatbots: building intelligent, cross-platform, messaging bots.',\n",
       " 'pearson education.',\n",
       " 'isbn 9780134650616.',\n",
       " '\"oracle launches a chatbot development platform | venturebeat\".',\n",
       " 'venturebeat.com.',\n",
       " 'retrieved 2017-11-15.',\n",
       " '\"oracle introduces ai-powered intelligent bots to help enterprises engage customers and employees\".',\n",
       " 'www.oracle.com.',\n",
       " 'retrieved 2017-11-15.',\n",
       " '\"mobile service | oracle cloud\".',\n",
       " 'cloud.oracle.com.',\n",
       " 'retrieved 2017-11-15.',\n",
       " '\"from russia with love\" (pdf).',\n",
       " 'retrieved 2007-12-09. psychologist and scientific american: mind contributing editor robert epstein reports how he was initially fooled by a chatterbot posing as an attractive girl in a personal ad he answered on a dating website.',\n",
       " 'in the ad, the girl portrayed herself as being in southern california and then soon revealed, in poor english, that she was actually in russia.',\n",
       " 'he became suspicious after a couple of months of email exchanges, sent her an email test of gibberish, and she still replied in general terms.',\n",
       " 'the dating website is not named.',\n",
       " 'scientific american: mind, octoberâ€“november 2007, page 16â€“17, \"from russia with love: how i got fooled (and somewhat humiliated) by a computer\".',\n",
       " 'also available online.',\n",
       " 'bird, jordan j.; ekart, aniko; faria, diego r. (june 2018).',\n",
       " 'advances in computational intelligence systems (1st ed.).',\n",
       " 'nottingham, uk: springer.',\n",
       " 'pp.',\n",
       " '179â€“190.',\n",
       " 'isbn 978-3-319-97982-3. retrieved 3 december 2018.\\nreferences\\ncomputer history museum (2006), \"internet historyâ€”1970\\'s\", exhibits, computer history museum, archived from the original on 2008-02-21, retrieved 2008-03-05\\ngã¼zeldere, gã¼ven; franchi, stefano (1995-07-24), \"constructions of the mind\", stanford humanities review, sehr, stanford university, 4 (2), retrieved 2008-03-05\\nmauldin, michael (1994), \"chatterbots, tinymuds, and the turing test: entering the loebner prize competition\", proceedings of the eleventh national conference on artificial intelligence, aaai press, retrieved 2008-03-05 (abstract)\\nnetwork working group (1973), \"rfc 439, parry encounters the doctor\", internet engineering task force, internet society, retrieved 2008-03-05\\nsondheim, alan j (1997), <nettime> important documents from the early internet (1972), nettime.org, archived from the original on 2008-06-13, retrieved 2008-03-05\\nsearle, john (1980), \"minds, brains and programs\", behavioral and brain sciences, 3 (3): 417â€“457, doi:10.1017/s0140525x00005756\\nshevat, amir (2017).',\n",
       " 'designing bots: creating conversational experiences (first ed.).',\n",
       " \"sebastopol, ca: o'reilly media.\",\n",
       " 'isbn 9781491974827. oclc 962125282.\\nturing, alan (1950), \"computing machinery and intelligence\", mind, 59 (236): 433â€“60, doi:10.1093/mind/lix.236.433\\nweizenbaum, joseph (january 1966), \"elizaâ€”a computer program for the study of natural language communication between man and machine\", communications of the acm, 9 (1): 36â€“45, doi:10.1145/365153.365168',\n",
       " ['programs are primarily'],\n",
       " 'programs are primarily',\n",
       " 'programs are primarily',\n",
       " ['programs are primarily'],\n",
       " ['programs are primarily'],\n",
       " ['programs are primarily'],\n",
       " ['programs are primarily']]"
      ]
     },
     "execution_count": 33,
     "metadata": {},
     "output_type": "execute_result"
    }
   ],
   "source": [
    "user_sent_tokens = nltk.sent_tokenize('programs are primarily')\n",
    "user_sent_tokens\n",
    "sent_tokens.append(user_sent_tokens)\n",
    "sent_tokens\n",
    " \n",
    "   "
   ]
  },
  {
   "cell_type": "code",
   "execution_count": 76,
   "metadata": {},
   "outputs": [
    {
     "data": {
      "text/plain": [
       "array([0.        , 0.        , 0.        , 0.        , 0.        ,\n",
       "       0.        , 0.        , 0.        , 0.        , 0.        ,\n",
       "       0.        , 0.        , 0.        , 0.        , 0.        ,\n",
       "       0.        , 0.        , 0.        , 0.        , 0.        ,\n",
       "       0.        , 0.        , 0.        , 0.        , 0.        ,\n",
       "       0.        , 0.        , 0.        , 0.        , 0.        ,\n",
       "       0.        , 0.        , 0.        , 0.        , 0.        ,\n",
       "       0.        , 0.        , 0.        , 0.        , 0.        ,\n",
       "       0.        , 0.        , 0.        , 0.        , 0.        ,\n",
       "       0.        , 0.        , 0.        , 0.        , 0.        ,\n",
       "       0.        , 0.        , 0.        , 0.        , 0.        ,\n",
       "       0.        , 0.        , 0.        , 0.        , 0.        ,\n",
       "       0.        , 0.        , 0.        , 0.        , 0.        ,\n",
       "       0.        , 0.        , 0.        , 0.        , 0.        ,\n",
       "       0.        , 0.        , 0.        , 0.        , 0.        ,\n",
       "       0.        , 0.        , 0.        , 0.        , 0.        ,\n",
       "       0.        , 0.        , 0.        , 0.        , 0.        ,\n",
       "       0.        , 0.        , 0.        , 0.        , 0.        ,\n",
       "       0.        , 0.        , 0.        , 0.        , 0.        ,\n",
       "       0.        , 0.        , 0.        , 0.        , 0.        ,\n",
       "       0.        , 0.        , 0.        , 0.        , 0.        ,\n",
       "       0.        , 0.        , 0.        , 0.        , 0.        ,\n",
       "       0.        , 0.        , 0.        , 0.        , 0.        ,\n",
       "       0.        , 0.        , 0.        , 0.        , 0.        ,\n",
       "       0.        , 0.        , 0.        , 0.        , 0.        ,\n",
       "       0.        , 0.        , 0.        , 0.        , 0.        ,\n",
       "       0.        , 0.        , 0.        , 0.        , 0.        ,\n",
       "       0.        , 0.        , 0.        , 0.        , 0.        ,\n",
       "       0.        , 0.        , 0.        , 0.        , 0.        ,\n",
       "       0.        , 0.        , 0.        , 0.        , 0.        ,\n",
       "       0.        , 0.        , 0.        , 0.        , 0.        ,\n",
       "       0.        , 0.        , 0.        , 0.        , 0.        ,\n",
       "       0.        , 0.        , 0.        , 0.        , 0.        ,\n",
       "       0.        , 0.        , 0.        , 0.02849352, 0.06119294,\n",
       "       0.07626188, 0.07868487, 0.09053392, 0.09134888, 0.09405899,\n",
       "       0.10006906, 0.11069415, 0.11862898, 0.13780993, 0.16461671,\n",
       "       0.19579997, 0.25064483, 0.30259748, 1.        , 1.        ,\n",
       "       1.        ])"
      ]
     },
     "execution_count": 76,
     "metadata": {},
     "output_type": "execute_result"
    }
   ],
   "source": [
    "vals = cosine_similarity(tfidf_matrix, tfidf_matrix[185])\n",
    "vals\n",
    "flat = vals.flatten()\n",
    "v = flat.sort()\n",
    "flat\n",
    " "
   ]
  },
  {
   "cell_type": "code",
   "execution_count": 34,
   "metadata": {},
   "outputs": [
    {
     "ename": "AttributeError",
     "evalue": "'list' object has no attribute 'lower'",
     "output_type": "error",
     "traceback": [
      "\u001b[1;31m---------------------------------------------------------------------------\u001b[0m",
      "\u001b[1;31mAttributeError\u001b[0m                            Traceback (most recent call last)",
      "\u001b[1;32m<ipython-input-34-5d3e98391e43>\u001b[0m in \u001b[0;36m<module>\u001b[1;34m\u001b[0m\n\u001b[0;32m      1\u001b[0m \u001b[0mTfidfVec\u001b[0m \u001b[1;33m=\u001b[0m \u001b[0mTfidfVectorizer\u001b[0m\u001b[1;33m(\u001b[0m\u001b[0mtokenizer\u001b[0m\u001b[1;33m=\u001b[0m\u001b[0mLemNormalize\u001b[0m\u001b[1;33m,\u001b[0m \u001b[0mstop_words\u001b[0m\u001b[1;33m=\u001b[0m\u001b[1;34m'english'\u001b[0m\u001b[1;33m)\u001b[0m\u001b[1;33m\u001b[0m\u001b[1;33m\u001b[0m\u001b[0m\n\u001b[1;32m----> 2\u001b[1;33m \u001b[0mtfidf_matrix\u001b[0m \u001b[1;33m=\u001b[0m \u001b[0mTfidfVec\u001b[0m\u001b[1;33m.\u001b[0m\u001b[0mfit_transform\u001b[0m\u001b[1;33m(\u001b[0m\u001b[0msent_tokens\u001b[0m\u001b[1;33m)\u001b[0m\u001b[1;33m\u001b[0m\u001b[1;33m\u001b[0m\u001b[0m\n\u001b[0m",
      "\u001b[1;32mC:\\ProgramData\\Anaconda2\\lib\\site-packages\\sklearn\\feature_extraction\\text.py\u001b[0m in \u001b[0;36mfit_transform\u001b[1;34m(self, raw_documents, y)\u001b[0m\n\u001b[0;32m   1611\u001b[0m         \"\"\"\n\u001b[0;32m   1612\u001b[0m         \u001b[0mself\u001b[0m\u001b[1;33m.\u001b[0m\u001b[0m_check_params\u001b[0m\u001b[1;33m(\u001b[0m\u001b[1;33m)\u001b[0m\u001b[1;33m\u001b[0m\u001b[1;33m\u001b[0m\u001b[0m\n\u001b[1;32m-> 1613\u001b[1;33m         \u001b[0mX\u001b[0m \u001b[1;33m=\u001b[0m \u001b[0msuper\u001b[0m\u001b[1;33m(\u001b[0m\u001b[0mTfidfVectorizer\u001b[0m\u001b[1;33m,\u001b[0m \u001b[0mself\u001b[0m\u001b[1;33m)\u001b[0m\u001b[1;33m.\u001b[0m\u001b[0mfit_transform\u001b[0m\u001b[1;33m(\u001b[0m\u001b[0mraw_documents\u001b[0m\u001b[1;33m)\u001b[0m\u001b[1;33m\u001b[0m\u001b[1;33m\u001b[0m\u001b[0m\n\u001b[0m\u001b[0;32m   1614\u001b[0m         \u001b[0mself\u001b[0m\u001b[1;33m.\u001b[0m\u001b[0m_tfidf\u001b[0m\u001b[1;33m.\u001b[0m\u001b[0mfit\u001b[0m\u001b[1;33m(\u001b[0m\u001b[0mX\u001b[0m\u001b[1;33m)\u001b[0m\u001b[1;33m\u001b[0m\u001b[1;33m\u001b[0m\u001b[0m\n\u001b[0;32m   1615\u001b[0m         \u001b[1;31m# X is already a transformed view of raw_documents so\u001b[0m\u001b[1;33m\u001b[0m\u001b[1;33m\u001b[0m\u001b[1;33m\u001b[0m\u001b[0m\n",
      "\u001b[1;32mC:\\ProgramData\\Anaconda2\\lib\\site-packages\\sklearn\\feature_extraction\\text.py\u001b[0m in \u001b[0;36mfit_transform\u001b[1;34m(self, raw_documents, y)\u001b[0m\n\u001b[0;32m   1029\u001b[0m \u001b[1;33m\u001b[0m\u001b[0m\n\u001b[0;32m   1030\u001b[0m         vocabulary, X = self._count_vocab(raw_documents,\n\u001b[1;32m-> 1031\u001b[1;33m                                           self.fixed_vocabulary_)\n\u001b[0m\u001b[0;32m   1032\u001b[0m \u001b[1;33m\u001b[0m\u001b[0m\n\u001b[0;32m   1033\u001b[0m         \u001b[1;32mif\u001b[0m \u001b[0mself\u001b[0m\u001b[1;33m.\u001b[0m\u001b[0mbinary\u001b[0m\u001b[1;33m:\u001b[0m\u001b[1;33m\u001b[0m\u001b[1;33m\u001b[0m\u001b[0m\n",
      "\u001b[1;32mC:\\ProgramData\\Anaconda2\\lib\\site-packages\\sklearn\\feature_extraction\\text.py\u001b[0m in \u001b[0;36m_count_vocab\u001b[1;34m(self, raw_documents, fixed_vocab)\u001b[0m\n\u001b[0;32m    941\u001b[0m         \u001b[1;32mfor\u001b[0m \u001b[0mdoc\u001b[0m \u001b[1;32min\u001b[0m \u001b[0mraw_documents\u001b[0m\u001b[1;33m:\u001b[0m\u001b[1;33m\u001b[0m\u001b[1;33m\u001b[0m\u001b[0m\n\u001b[0;32m    942\u001b[0m             \u001b[0mfeature_counter\u001b[0m \u001b[1;33m=\u001b[0m \u001b[1;33m{\u001b[0m\u001b[1;33m}\u001b[0m\u001b[1;33m\u001b[0m\u001b[1;33m\u001b[0m\u001b[0m\n\u001b[1;32m--> 943\u001b[1;33m             \u001b[1;32mfor\u001b[0m \u001b[0mfeature\u001b[0m \u001b[1;32min\u001b[0m \u001b[0manalyze\u001b[0m\u001b[1;33m(\u001b[0m\u001b[0mdoc\u001b[0m\u001b[1;33m)\u001b[0m\u001b[1;33m:\u001b[0m\u001b[1;33m\u001b[0m\u001b[1;33m\u001b[0m\u001b[0m\n\u001b[0m\u001b[0;32m    944\u001b[0m                 \u001b[1;32mtry\u001b[0m\u001b[1;33m:\u001b[0m\u001b[1;33m\u001b[0m\u001b[1;33m\u001b[0m\u001b[0m\n\u001b[0;32m    945\u001b[0m                     \u001b[0mfeature_idx\u001b[0m \u001b[1;33m=\u001b[0m \u001b[0mvocabulary\u001b[0m\u001b[1;33m[\u001b[0m\u001b[0mfeature\u001b[0m\u001b[1;33m]\u001b[0m\u001b[1;33m\u001b[0m\u001b[1;33m\u001b[0m\u001b[0m\n",
      "\u001b[1;32mC:\\ProgramData\\Anaconda2\\lib\\site-packages\\sklearn\\feature_extraction\\text.py\u001b[0m in \u001b[0;36m<lambda>\u001b[1;34m(doc)\u001b[0m\n\u001b[0;32m    327\u001b[0m                                                tokenize)\n\u001b[0;32m    328\u001b[0m             return lambda doc: self._word_ngrams(\n\u001b[1;32m--> 329\u001b[1;33m                 tokenize(preprocess(self.decode(doc))), stop_words)\n\u001b[0m\u001b[0;32m    330\u001b[0m \u001b[1;33m\u001b[0m\u001b[0m\n\u001b[0;32m    331\u001b[0m         \u001b[1;32melse\u001b[0m\u001b[1;33m:\u001b[0m\u001b[1;33m\u001b[0m\u001b[1;33m\u001b[0m\u001b[0m\n",
      "\u001b[1;32mC:\\ProgramData\\Anaconda2\\lib\\site-packages\\sklearn\\feature_extraction\\text.py\u001b[0m in \u001b[0;36m<lambda>\u001b[1;34m(x)\u001b[0m\n\u001b[0;32m    255\u001b[0m \u001b[1;33m\u001b[0m\u001b[0m\n\u001b[0;32m    256\u001b[0m         \u001b[1;32mif\u001b[0m \u001b[0mself\u001b[0m\u001b[1;33m.\u001b[0m\u001b[0mlowercase\u001b[0m\u001b[1;33m:\u001b[0m\u001b[1;33m\u001b[0m\u001b[1;33m\u001b[0m\u001b[0m\n\u001b[1;32m--> 257\u001b[1;33m             \u001b[1;32mreturn\u001b[0m \u001b[1;32mlambda\u001b[0m \u001b[0mx\u001b[0m\u001b[1;33m:\u001b[0m \u001b[0mstrip_accents\u001b[0m\u001b[1;33m(\u001b[0m\u001b[0mx\u001b[0m\u001b[1;33m.\u001b[0m\u001b[0mlower\u001b[0m\u001b[1;33m(\u001b[0m\u001b[1;33m)\u001b[0m\u001b[1;33m)\u001b[0m\u001b[1;33m\u001b[0m\u001b[1;33m\u001b[0m\u001b[0m\n\u001b[0m\u001b[0;32m    258\u001b[0m         \u001b[1;32melse\u001b[0m\u001b[1;33m:\u001b[0m\u001b[1;33m\u001b[0m\u001b[1;33m\u001b[0m\u001b[0m\n\u001b[0;32m    259\u001b[0m             \u001b[1;32mreturn\u001b[0m \u001b[0mstrip_accents\u001b[0m\u001b[1;33m\u001b[0m\u001b[1;33m\u001b[0m\u001b[0m\n",
      "\u001b[1;31mAttributeError\u001b[0m: 'list' object has no attribute 'lower'"
     ]
    }
   ],
   "source": [
    "TfidfVec = TfidfVectorizer(tokenizer=LemNormalize, stop_words='english')\n",
    "tfidf_matrix = TfidfVec.fit_transform(sent_tokens)"
   ]
  },
  {
   "cell_type": "code",
   "execution_count": 36,
   "metadata": {},
   "outputs": [
    {
     "ename": "AttributeError",
     "evalue": "'list' object has no attribute 'lower'",
     "output_type": "error",
     "traceback": [
      "\u001b[1;31m---------------------------------------------------------------------------\u001b[0m",
      "\u001b[1;31mAttributeError\u001b[0m                            Traceback (most recent call last)",
      "\u001b[1;32m<ipython-input-34-5d3e98391e43>\u001b[0m in \u001b[0;36m<module>\u001b[1;34m\u001b[0m\n\u001b[0;32m      1\u001b[0m \u001b[0mTfidfVec\u001b[0m \u001b[1;33m=\u001b[0m \u001b[0mTfidfVectorizer\u001b[0m\u001b[1;33m(\u001b[0m\u001b[0mtokenizer\u001b[0m\u001b[1;33m=\u001b[0m\u001b[0mLemNormalize\u001b[0m\u001b[1;33m,\u001b[0m \u001b[0mstop_words\u001b[0m\u001b[1;33m=\u001b[0m\u001b[1;34m'english'\u001b[0m\u001b[1;33m)\u001b[0m\u001b[1;33m\u001b[0m\u001b[1;33m\u001b[0m\u001b[0m\n\u001b[1;32m----> 2\u001b[1;33m \u001b[0mtfidf_matrix\u001b[0m \u001b[1;33m=\u001b[0m \u001b[0mTfidfVec\u001b[0m\u001b[1;33m.\u001b[0m\u001b[0mfit_transform\u001b[0m\u001b[1;33m(\u001b[0m\u001b[0msent_tokens\u001b[0m\u001b[1;33m)\u001b[0m\u001b[1;33m\u001b[0m\u001b[1;33m\u001b[0m\u001b[0m\n\u001b[0m",
      "\u001b[1;32mC:\\ProgramData\\Anaconda2\\lib\\site-packages\\sklearn\\feature_extraction\\text.py\u001b[0m in \u001b[0;36mfit_transform\u001b[1;34m(self, raw_documents, y)\u001b[0m\n\u001b[0;32m   1611\u001b[0m         \"\"\"\n\u001b[0;32m   1612\u001b[0m         \u001b[0mself\u001b[0m\u001b[1;33m.\u001b[0m\u001b[0m_check_params\u001b[0m\u001b[1;33m(\u001b[0m\u001b[1;33m)\u001b[0m\u001b[1;33m\u001b[0m\u001b[1;33m\u001b[0m\u001b[0m\n\u001b[1;32m-> 1613\u001b[1;33m         \u001b[0mX\u001b[0m \u001b[1;33m=\u001b[0m \u001b[0msuper\u001b[0m\u001b[1;33m(\u001b[0m\u001b[0mTfidfVectorizer\u001b[0m\u001b[1;33m,\u001b[0m \u001b[0mself\u001b[0m\u001b[1;33m)\u001b[0m\u001b[1;33m.\u001b[0m\u001b[0mfit_transform\u001b[0m\u001b[1;33m(\u001b[0m\u001b[0mraw_documents\u001b[0m\u001b[1;33m)\u001b[0m\u001b[1;33m\u001b[0m\u001b[1;33m\u001b[0m\u001b[0m\n\u001b[0m\u001b[0;32m   1614\u001b[0m         \u001b[0mself\u001b[0m\u001b[1;33m.\u001b[0m\u001b[0m_tfidf\u001b[0m\u001b[1;33m.\u001b[0m\u001b[0mfit\u001b[0m\u001b[1;33m(\u001b[0m\u001b[0mX\u001b[0m\u001b[1;33m)\u001b[0m\u001b[1;33m\u001b[0m\u001b[1;33m\u001b[0m\u001b[0m\n\u001b[0;32m   1615\u001b[0m         \u001b[1;31m# X is already a transformed view of raw_documents so\u001b[0m\u001b[1;33m\u001b[0m\u001b[1;33m\u001b[0m\u001b[1;33m\u001b[0m\u001b[0m\n",
      "\u001b[1;32mC:\\ProgramData\\Anaconda2\\lib\\site-packages\\sklearn\\feature_extraction\\text.py\u001b[0m in \u001b[0;36mfit_transform\u001b[1;34m(self, raw_documents, y)\u001b[0m\n\u001b[0;32m   1029\u001b[0m \u001b[1;33m\u001b[0m\u001b[0m\n\u001b[0;32m   1030\u001b[0m         vocabulary, X = self._count_vocab(raw_documents,\n\u001b[1;32m-> 1031\u001b[1;33m                                           self.fixed_vocabulary_)\n\u001b[0m\u001b[0;32m   1032\u001b[0m \u001b[1;33m\u001b[0m\u001b[0m\n\u001b[0;32m   1033\u001b[0m         \u001b[1;32mif\u001b[0m \u001b[0mself\u001b[0m\u001b[1;33m.\u001b[0m\u001b[0mbinary\u001b[0m\u001b[1;33m:\u001b[0m\u001b[1;33m\u001b[0m\u001b[1;33m\u001b[0m\u001b[0m\n",
      "\u001b[1;32mC:\\ProgramData\\Anaconda2\\lib\\site-packages\\sklearn\\feature_extraction\\text.py\u001b[0m in \u001b[0;36m_count_vocab\u001b[1;34m(self, raw_documents, fixed_vocab)\u001b[0m\n\u001b[0;32m    941\u001b[0m         \u001b[1;32mfor\u001b[0m \u001b[0mdoc\u001b[0m \u001b[1;32min\u001b[0m \u001b[0mraw_documents\u001b[0m\u001b[1;33m:\u001b[0m\u001b[1;33m\u001b[0m\u001b[1;33m\u001b[0m\u001b[0m\n\u001b[0;32m    942\u001b[0m             \u001b[0mfeature_counter\u001b[0m \u001b[1;33m=\u001b[0m \u001b[1;33m{\u001b[0m\u001b[1;33m}\u001b[0m\u001b[1;33m\u001b[0m\u001b[1;33m\u001b[0m\u001b[0m\n\u001b[1;32m--> 943\u001b[1;33m             \u001b[1;32mfor\u001b[0m \u001b[0mfeature\u001b[0m \u001b[1;32min\u001b[0m \u001b[0manalyze\u001b[0m\u001b[1;33m(\u001b[0m\u001b[0mdoc\u001b[0m\u001b[1;33m)\u001b[0m\u001b[1;33m:\u001b[0m\u001b[1;33m\u001b[0m\u001b[1;33m\u001b[0m\u001b[0m\n\u001b[0m\u001b[0;32m    944\u001b[0m                 \u001b[1;32mtry\u001b[0m\u001b[1;33m:\u001b[0m\u001b[1;33m\u001b[0m\u001b[1;33m\u001b[0m\u001b[0m\n\u001b[0;32m    945\u001b[0m                     \u001b[0mfeature_idx\u001b[0m \u001b[1;33m=\u001b[0m \u001b[0mvocabulary\u001b[0m\u001b[1;33m[\u001b[0m\u001b[0mfeature\u001b[0m\u001b[1;33m]\u001b[0m\u001b[1;33m\u001b[0m\u001b[1;33m\u001b[0m\u001b[0m\n",
      "\u001b[1;32mC:\\ProgramData\\Anaconda2\\lib\\site-packages\\sklearn\\feature_extraction\\text.py\u001b[0m in \u001b[0;36m<lambda>\u001b[1;34m(doc)\u001b[0m\n\u001b[0;32m    327\u001b[0m                                                tokenize)\n\u001b[0;32m    328\u001b[0m             return lambda doc: self._word_ngrams(\n\u001b[1;32m--> 329\u001b[1;33m                 tokenize(preprocess(self.decode(doc))), stop_words)\n\u001b[0m\u001b[0;32m    330\u001b[0m \u001b[1;33m\u001b[0m\u001b[0m\n\u001b[0;32m    331\u001b[0m         \u001b[1;32melse\u001b[0m\u001b[1;33m:\u001b[0m\u001b[1;33m\u001b[0m\u001b[1;33m\u001b[0m\u001b[0m\n",
      "\u001b[1;32mC:\\ProgramData\\Anaconda2\\lib\\site-packages\\sklearn\\feature_extraction\\text.py\u001b[0m in \u001b[0;36m<lambda>\u001b[1;34m(x)\u001b[0m\n\u001b[0;32m    255\u001b[0m \u001b[1;33m\u001b[0m\u001b[0m\n\u001b[0;32m    256\u001b[0m         \u001b[1;32mif\u001b[0m \u001b[0mself\u001b[0m\u001b[1;33m.\u001b[0m\u001b[0mlowercase\u001b[0m\u001b[1;33m:\u001b[0m\u001b[1;33m\u001b[0m\u001b[1;33m\u001b[0m\u001b[0m\n\u001b[1;32m--> 257\u001b[1;33m             \u001b[1;32mreturn\u001b[0m \u001b[1;32mlambda\u001b[0m \u001b[0mx\u001b[0m\u001b[1;33m:\u001b[0m \u001b[0mstrip_accents\u001b[0m\u001b[1;33m(\u001b[0m\u001b[0mx\u001b[0m\u001b[1;33m.\u001b[0m\u001b[0mlower\u001b[0m\u001b[1;33m(\u001b[0m\u001b[1;33m)\u001b[0m\u001b[1;33m)\u001b[0m\u001b[1;33m\u001b[0m\u001b[1;33m\u001b[0m\u001b[0m\n\u001b[0m\u001b[0;32m    258\u001b[0m         \u001b[1;32melse\u001b[0m\u001b[1;33m:\u001b[0m\u001b[1;33m\u001b[0m\u001b[1;33m\u001b[0m\u001b[0m\n\u001b[0;32m    259\u001b[0m             \u001b[1;32mreturn\u001b[0m \u001b[0mstrip_accents\u001b[0m\u001b[1;33m\u001b[0m\u001b[1;33m\u001b[0m\u001b[0m\n",
      "\u001b[1;31mAttributeError\u001b[0m: 'list' object has no attribute 'lower'"
     ]
    }
   ],
   "source": [
    "%tb"
   ]
  },
  {
   "cell_type": "code",
   "execution_count": null,
   "metadata": {},
   "outputs": [],
   "source": []
  },
  {
   "cell_type": "code",
   "execution_count": 35,
   "metadata": {},
   "outputs": [
    {
     "data": {
      "text/plain": [
       "['primarily', 'program']"
      ]
     },
     "execution_count": 35,
     "metadata": {},
     "output_type": "execute_result"
    }
   ],
   "source": [
    "user_sent_tokens = nltk.sent_tokenize('programs are primarily')\n",
    "testVect = TfidfVectorizer(tokenizer=LemNormalize, stop_words='english')\n",
    "testTfidf = testVect.fit_transform(user_sent_tokens)\n",
    "x_test=testTfidf.toarray\n",
    "testVect.get_feature_names()\n",
    "\n"
   ]
  },
  {
   "cell_type": "code",
   "execution_count": 17,
   "metadata": {},
   "outputs": [
    {
     "name": "stdout",
     "output_type": "stream",
     "text": [
      "isbn 9781491974827. oclc 962125282.\n",
      "turing, alan (1950), \"computing machinery and intelligence\", mind, 59 (236): 433â€“60, doi:10.1093/mind/lix.236.433\n",
      "weizenbaum, joseph (january 1966), \"elizaâ€”a computer program for the study of natural language communication between man and machine\", communications of the acm, 9 (1): 36â€“45, doi:10.1145/365153.365168\n"
     ]
    }
   ],
   "source": [
    "print( sent_tokens[182])\n",
    "#vals = cosine_similarity(x_train.reshape(1,-1), x_test)"
   ]
  },
  {
   "cell_type": "code",
   "execution_count": null,
   "metadata": {},
   "outputs": [],
   "source": []
  }
 ],
 "metadata": {
  "kernelspec": {
   "display_name": "Python 3",
   "language": "python",
   "name": "python3"
  },
  "language_info": {
   "codemirror_mode": {
    "name": "ipython",
    "version": 3
   },
   "file_extension": ".py",
   "mimetype": "text/x-python",
   "name": "python",
   "nbconvert_exporter": "python",
   "pygments_lexer": "ipython3",
   "version": "3.6.8"
  }
 },
 "nbformat": 4,
 "nbformat_minor": 2
}
